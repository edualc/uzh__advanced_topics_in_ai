{
 "cells": [
  {
   "cell_type": "markdown",
   "metadata": {
    "id": "53nBQpYb37bw"
   },
   "source": [
    "## 1. Data Load\n"
   ]
  },
  {
   "cell_type": "code",
   "execution_count": 1,
   "metadata": {},
   "outputs": [
    {
     "data": {
      "text/plain": [
       "'/home/claude/development/uzh__advanced_topics_in_ai'"
      ]
     },
     "execution_count": 1,
     "metadata": {},
     "output_type": "execute_result"
    }
   ],
   "source": [
    "import os\n",
    "import sys\n",
    "\n",
    "if os.getcwd().split('/')[-1] == 'notebooks':\n",
    "    os.chdir('../')\n",
    "os.getcwd()"
   ]
  },
  {
   "cell_type": "code",
   "execution_count": 2,
   "metadata": {
    "colab": {
     "base_uri": "https://localhost:8080/",
     "height": 255
    },
    "executionInfo": {
     "elapsed": 12393,
     "status": "ok",
     "timestamp": 1632683772579,
     "user": {
      "displayName": "Go Friday",
      "photoUrl": "https://lh3.googleusercontent.com/a/default-user=s64",
      "userId": "04257507274310331112"
     },
     "user_tz": -120
    },
    "id": "qsEynPSV4FKf",
    "outputId": "b0a602e6-abbd-497a-ad9d-abbac38a65ab"
   },
   "outputs": [],
   "source": [
    "import plotly.io as pio\n",
    "pio.renderers.default = 'jupyterlab+svg'\n",
    "from speakeasypy import Speakeasy, Chatroom\n",
    "from typing import List\n",
    "import time\n",
    "\n",
    "\n",
    "# NOTE: You might have to download a few things for nltk to work properly\n",
    "import nltk\n",
    "from nltk.corpus import wordnet as wn\n",
    "from nltk import Tree\n",
    "# nltk.data.path.append('/Users/melihserin/Desktop/ATAI/env/lib/python3.12/site-packages/nltk_data')\n",
    "\n",
    "# NOTE: You might have to download the en_core_web_sm model for this to work\n",
    "import spacy\n",
    "from spacy import displacy\n",
    "from spacy_wordnet.wordnet_annotator import WordnetAnnotator \n",
    "import os\n",
    "\n",
    "from src.utils import *\n",
    "from src.part_of_speech import FactualBotPartOfSpeech\n",
    "from src.ner import FactualBotNER\n",
    "from src.recommendation import RecommendationBot\n",
    "from src.simple_recommendation import SimpleRecommendationBot"
   ]
  },
  {
   "cell_type": "code",
   "execution_count": 3,
   "metadata": {},
   "outputs": [
    {
     "name": "stdout",
     "output_type": "stream",
     "text": [
      "Graph loaded.\n",
      "Embeddings loaded.\n",
      "Dictionaries loaded.\n",
      "Namespaces loaded.\n",
      "Nodes loaded.\n",
      "Predicates loaded.\n",
      "Namespaces loaded.\n"
     ]
    }
   ],
   "source": [
    "g = load_graph()\n",
    "entity_emb, relation_emb = load_embeddings()\n",
    "ent2id, id2ent, rel2id, id2rel, ent2lbl, lbl2ent = load_dictionaries(g)\n",
    "WD, WDT, SCHEMA, DDIS, RDFS = load_namespaces()\n",
    "nodes, predicates = load_nodes_and_preciates(g)\n",
    "movies = load_movies(g, nodes)\n",
    "url2nodes = load_url2nodes(nodes, ent2lbl)\n",
    "genres = load_genres(g, predicates, ent2lbl)"
   ]
  },
  {
   "cell_type": "code",
   "execution_count": 4,
   "metadata": {},
   "outputs": [],
   "source": [
    "TEST_RECOMMENDATIONS = [\n",
    "    \"I loved Inception. Can you recommend similar movies?\",\n",
    "    \"I’m in the mood for something funny. Any good comedies you’d recommend?\",\n",
    "    \"Can you suggest some good action movies?\",\n",
    "    \"I want to watch comedy movies.\",\n",
    "    \"Recommend me a drama movie\"\n",
    "]"
   ]
  },
  {
   "cell_type": "code",
   "execution_count": 5,
   "metadata": {},
   "outputs": [],
   "source": [
    "TEST_QUESTIONS = [\n",
    "    \"What is the genre of Good Neighbors?\",\n",
    "    'Who directed Apocalypse Now?',\n",
    "    \"Who is the director of Star Wars Episode VI - Return of the Jedi?\",\n",
    "    \"Who is the screenwriter of The Masked Gang: Cyprus?\",\n",
    "    'When was The Godfather released?',\n",
    "    \"Who is the producer of Inception?\",\n",
    "    \"Who composed the soundtrack for Jurassic Park?\",\n",
    "    \"When was Pulp Fiction released?\",\n",
    "    \"Who played the lead role in The Matrix?\",\n",
    "    \"Who directed Blade Runner 2049?\",\n",
    "    \"What is the running time of The Shawshank Redemption?\",\n",
    "    \"Who was the cinematographer for Mad Max: Fury Road?\",\n",
    "    \"When did Titanic premiere?\",\n",
    "    \"Who wrote the screenplay for The Social Network?\",\n",
    "    \"What is the box office gross of Avatar?\",\n",
    "    \"Who edited the movie Parasite?\",\n",
    "    \"What is the budget of Halloween?\",\n",
    "    \"Who starred as the main character in Forrest Gump?\",\n",
    "    \"When was Interstellar first released?\",\n",
    "    \"Who is the production designer of Dune (2021)?\",\n",
    "    \"Who is the production designer of Dune?\",\n",
    "]"
   ]
  },
  {
   "cell_type": "markdown",
   "metadata": {},
   "source": [
    "## Part of Speech - Factual Questions"
   ]
  },
  {
   "cell_type": "code",
   "execution_count": 6,
   "metadata": {},
   "outputs": [
    {
     "data": {
      "text/plain": [
       "'According to the graph, I think the answer is Robert Zemeckis.'"
      ]
     },
     "execution_count": 6,
     "metadata": {},
     "output_type": "execute_result"
    }
   ],
   "source": [
    "bot_pos = FactualBotPartOfSpeech(g, nodes, predicates)\n",
    "bot_pos.get_factual__pos('Who is the director of Forrest Gump?')"
   ]
  },
  {
   "cell_type": "markdown",
   "metadata": {},
   "source": [
    "## NER - Factual Questions"
   ]
  },
  {
   "cell_type": "code",
   "execution_count": 7,
   "metadata": {},
   "outputs": [
    {
     "name": "stderr",
     "output_type": "stream",
     "text": [
      "Some weights of the model checkpoint at dslim/bert-base-NER were not used when initializing BertForTokenClassification: ['bert.pooler.dense.bias', 'bert.pooler.dense.weight']\n",
      "- This IS expected if you are initializing BertForTokenClassification from the checkpoint of a model trained on another task or with another architecture (e.g. initializing a BertForSequenceClassification model from a BertForPreTraining model).\n",
      "- This IS NOT expected if you are initializing BertForTokenClassification from the checkpoint of a model that you expect to be exactly identical (initializing a BertForSequenceClassification model from a BertForSequenceClassification model).\n",
      "Hardware accelerator e.g. GPU is available in the environment, but no `device` argument is passed to the `Pipeline` object. Model will be on CPU.\n"
     ]
    },
    {
     "data": {
      "text/plain": [
       "'According to the the graph, the director of Forrest Gump is Robert Zemeckis.'"
      ]
     },
     "execution_count": 7,
     "metadata": {},
     "output_type": "execute_result"
    }
   ],
   "source": [
    "bot_ner = FactualBotNER(g, nodes, predicates, entity_emb, relation_emb, ent2id, rel2id, ent2lbl, lbl2ent, id2ent)\n",
    "bot_ner('Who is the director of Forrest Gump?')"
   ]
  },
  {
   "cell_type": "markdown",
   "metadata": {},
   "source": [
    "## Recommendation: NER Approach"
   ]
  },
  {
   "cell_type": "code",
   "execution_count": 8,
   "metadata": {},
   "outputs": [],
   "source": [
    "del sys.modules['src.recommendation']\n",
    "from src.recommendation import RecommendationBot"
   ]
  },
  {
   "cell_type": "code",
   "execution_count": 9,
   "metadata": {},
   "outputs": [
    {
     "name": "stdout",
     "output_type": "stream",
     "text": [
      "[['http://www.wikidata.org/entity/Q40831'], ['http://www.wikidata.org/entity/Q40831'], ['http://www.wikidata.org/entity/Q192881'], ['http://www.wikidata.org/entity/Q40831'], ['http://www.wikidata.org/entity/Q40831'], ['http://www.wikidata.org/entity/Q40831'], ['http://www.wikidata.org/entity/Q245068'], ['http://www.wikidata.org/entity/Q40831'], ['http://www.wikidata.org/entity/Q40831'], ['http://www.wikidata.org/entity/Q157443'], ['http://www.wikidata.org/entity/Q157443'], ['http://www.wikidata.org/entity/Q157443'], ['http://www.wikidata.org/entity/Q170238'], ['http://www.wikidata.org/entity/Q157443'], ['http://www.wikidata.org/entity/Q22812458'], ['http://www.wikidata.org/entity/Q157443'], ['http://www.wikidata.org/entity/Q7696995'], ['http://www.wikidata.org/entity/Q157443'], ['http://www.wikidata.org/entity/Q11424'], ['http://www.wikidata.org/entity/Q157443'], ['http://www.wikidata.org/entity/Q40831'], ['http://www.wikidata.org/entity/Q157443'], ['http://www.wikidata.org/entity/Q157443']]\n",
      "If you like comedy movies, I would recommend you watch Much Ado About Nothing.\n"
     ]
    }
   ],
   "source": [
    "bot_rec = RecommendationBot(bot_ner, g, nodes, predicates, genres, movies, url2nodes, entity_emb, rel2id, ent2id, id2ent, relation_emb)\n",
    "print(bot_rec.get_recommendation(\"I want to watch comedy movies.\"))"
   ]
  },
  {
   "cell_type": "code",
   "execution_count": 10,
   "metadata": {},
   "outputs": [
    {
     "name": "stdout",
     "output_type": "stream",
     "text": [
      "[['http://www.wikidata.org/entity/Q25372'], ['http://www.wikidata.org/entity/Q25372'], ['http://www.wikidata.org/entity/Q25372'], ['http://www.wikidata.org/entity/Q25372'], ['http://www.wikidata.org/entity/Q25372'], ['http://www.wikidata.org/entity/Q25372'], ['http://www.wikidata.org/entity/Q25372'], ['http://www.wikidata.org/entity/Q25372'], ['http://www.wikidata.org/entity/Q25372'], ['http://www.wikidata.org/entity/Q25372'], ['http://www.wikidata.org/entity/Q25372'], ['http://www.wikidata.org/entity/Q25372']]\n"
     ]
    },
    {
     "data": {
      "text/plain": [
       "'Sorry, I cannot recommend you a movie based on your query. The reasons might be that I do not know the movies you mentioned or there is a minor problem with the format of your input. You might want to re-check and/or rephrase your sentence. I will be waiting here. '"
      ]
     },
     "execution_count": 10,
     "metadata": {},
     "output_type": "execute_result"
    }
   ],
   "source": [
    "question = \"Recommend me a drama movie\"\n",
    "bot_rec.get_recommendation(question)"
   ]
  },
  {
   "cell_type": "code",
   "execution_count": 11,
   "metadata": {},
   "outputs": [
    {
     "name": "stdout",
     "output_type": "stream",
     "text": [
      "Question: I loved Inception. Can you recommend similar movies?\n",
      "\t Sorry, I cannot recommend you a movie based on your query. The reasons might be that I do not know the movies you mentioned or there is a minor problem with the format of your input. You might want to re-check and/or rephrase your sentence. I will be waiting here \n",
      "\n",
      "Question: I’m in the mood for something funny. Any good comedies you’d recommend?\n",
      "\t Sorry, I cannot recommend you a movie based on your query. The reasons might be that I do not know the movies you mentioned or there is a minor problem with the format of your input. You might want to re-check and/or rephrase your sentence. I will be waiting here. \n",
      "\n",
      "Question: Can you suggest some good action movies?\n",
      "[['http://www.wikidata.org/entity/Q188473'], ['http://www.wikidata.org/entity/Q188473'], ['http://www.wikidata.org/entity/Q11424'], ['http://www.wikidata.org/entity/Q188473'], ['http://www.wikidata.org/entity/Q188473'], ['http://www.wikidata.org/entity/Q188473']]\n",
      "\t If you like action movies, I would recommend you watch The Lost Samaritan.\n",
      "\n",
      "Question: I want to watch comedy movies.\n",
      "[['http://www.wikidata.org/entity/Q40831'], ['http://www.wikidata.org/entity/Q40831'], ['http://www.wikidata.org/entity/Q192881'], ['http://www.wikidata.org/entity/Q40831'], ['http://www.wikidata.org/entity/Q40831'], ['http://www.wikidata.org/entity/Q40831'], ['http://www.wikidata.org/entity/Q245068'], ['http://www.wikidata.org/entity/Q40831'], ['http://www.wikidata.org/entity/Q40831'], ['http://www.wikidata.org/entity/Q157443'], ['http://www.wikidata.org/entity/Q157443'], ['http://www.wikidata.org/entity/Q157443'], ['http://www.wikidata.org/entity/Q170238'], ['http://www.wikidata.org/entity/Q157443'], ['http://www.wikidata.org/entity/Q22812458'], ['http://www.wikidata.org/entity/Q157443'], ['http://www.wikidata.org/entity/Q7696995'], ['http://www.wikidata.org/entity/Q157443'], ['http://www.wikidata.org/entity/Q11424'], ['http://www.wikidata.org/entity/Q157443'], ['http://www.wikidata.org/entity/Q40831'], ['http://www.wikidata.org/entity/Q157443'], ['http://www.wikidata.org/entity/Q157443']]\n",
      "\t If you like comedy movies, I would recommend you watch Much Ado About Nothing.\n",
      "\n",
      "Question: Recommend me a drama movie\n",
      "[['http://www.wikidata.org/entity/Q25372'], ['http://www.wikidata.org/entity/Q25372'], ['http://www.wikidata.org/entity/Q25372'], ['http://www.wikidata.org/entity/Q25372'], ['http://www.wikidata.org/entity/Q25372'], ['http://www.wikidata.org/entity/Q25372'], ['http://www.wikidata.org/entity/Q25372'], ['http://www.wikidata.org/entity/Q25372'], ['http://www.wikidata.org/entity/Q25372'], ['http://www.wikidata.org/entity/Q25372'], ['http://www.wikidata.org/entity/Q25372'], ['http://www.wikidata.org/entity/Q25372']]\n",
      "\t Sorry, I cannot recommend you a movie based on your query. The reasons might be that I do not know the movies you mentioned or there is a minor problem with the format of your input. You might want to re-check and/or rephrase your sentence. I will be waiting here. \n",
      "\n"
     ]
    }
   ],
   "source": [
    "for question in TEST_RECOMMENDATIONS:\n",
    "    print(f\"Question: {question}\")\n",
    "    print('\\t', bot_rec.get_recommendation(question))\n",
    "    print()"
   ]
  },
  {
   "cell_type": "markdown",
   "metadata": {},
   "source": [
    "## Recommendation: Vector Similarity Ideas"
   ]
  },
  {
   "cell_type": "code",
   "execution_count": 12,
   "metadata": {},
   "outputs": [],
   "source": [
    "del sys.modules['src.simple_recommendation']\n",
    "from src.simple_recommendation import SimpleRecommendationBot"
   ]
  },
  {
   "cell_type": "code",
   "execution_count": 13,
   "metadata": {},
   "outputs": [
    {
     "name": "stdout",
     "output_type": "stream",
     "text": [
      "Namespaces loaded.\n"
     ]
    }
   ],
   "source": [
    "bot_simple_rec = SimpleRecommendationBot(g)"
   ]
  },
  {
   "cell_type": "code",
   "execution_count": 14,
   "metadata": {},
   "outputs": [
    {
     "name": "stdout",
     "output_type": "stream",
     "text": [
      "Found movies:  ['the hunger games', 'the lion king', 'life of pi']\n",
      "Found genres:  ['coming-of-age story']\n"
     ]
    }
   ],
   "source": [
    "test_string = \"coming-of-age the beauty and the beast What movies can you recommend if I like The, beauty and the beast Life of Pi, Lion King, the Lion King, Star Wars, Harry Potter and the Hunger Games?\"\n",
    "found_movies, found_genres = bot_simple_rec.get_entities(test_string)\n",
    "print('Found movies: ', found_movies)\n",
    "print('Found genres: ', found_genres)"
   ]
  },
  {
   "cell_type": "code",
   "execution_count": 15,
   "metadata": {},
   "outputs": [
    {
     "name": "stdout",
     "output_type": "stream",
     "text": [
      "I loved Inception. Can you recommend similar movies?\n",
      "\tDetected movies: ['inception', 'loved']\n",
      "\tDetected genres: []\n",
      "\n",
      "\tLet me think... Ah, yes. Have you tried watching: 'Passengers', 'Serenity' or maybe even 'Brotherhood of the Wolf'?\n",
      "\n",
      "I’m in the mood for something funny. Any good comedies you’d recommend?\n",
      "\tDetected movies: ['good']\n",
      "\tDetected genres: []\n",
      "\n",
      "\tLet me think... Ah, yes. Have you tried watching: 'Linger', 'Blind Mountain' or maybe even 'Cairo Time'?\n",
      "\n",
      "Can you suggest some good action movies?\n",
      "\tDetected movies: ['good']\n",
      "\tDetected genres: ['action film']\n",
      "\n",
      "\tLet me think... Ah, yes. Have you tried watching: 'Undisputed II: Last Man Standing', 'I Love You Phillip Morris' or maybe even 'Shinjuku Incident'?\n",
      "\n",
      "I want to watch comedy movies.\n",
      "\tDetected movies: []\n",
      "\tDetected genres: ['comedy film']\n",
      "\n",
      "\tLet me think... Ah, yes. Have you tried watching: 'Buffalo Bill and the Indians, or Sitting Bull's History Lesson', 'Bullseye!' or maybe even 'The Big Hit'?\n",
      "\n",
      "Recommend me a drama movie\n",
      "\tDetected movies: []\n",
      "\tDetected genres: ['drama']\n",
      "\n",
      "\tLet me think... Ah, yes. Have you tried watching: 'What We Wanted', 'Linger' or maybe even 'Amerika'?\n",
      "\n"
     ]
    }
   ],
   "source": [
    "movie2idx = {movie: i for i, movie in enumerate(bot_simple_rec.movie_genres.keys())}\n",
    "\n",
    "for question in TEST_RECOMMENDATIONS:\n",
    "    print(question)\n",
    "    found_movies, found_genres = bot_simple_rec.get_entities(question)\n",
    "    print(f\"\\tDetected movies: {found_movies}\")\n",
    "    print(f\"\\tDetected genres: {found_genres}\")\n",
    "    print()\n",
    "    print(f\"\\t{bot_simple_rec.recommend_movies(question)}\")\n",
    "    print()\n"
   ]
  },
  {
   "cell_type": "markdown",
   "metadata": {},
   "source": [
    "## Evaluation 3"
   ]
  },
  {
   "cell_type": "code",
   "execution_count": null,
   "metadata": {},
   "outputs": [],
   "source": [
    "from decouple import config\n",
    "DEFAULT_HOST_URL = config(\"UZH_SPEAKEASY_HOST\")\n",
    "listen_freq = 2\n",
    "\n",
    "\n",
    "class Agent:\n",
    "    def __init__(self, username, password):\n",
    "        self.username = username\n",
    "        # Initialize the Speakeasy Python framework and login.\n",
    "        self.speakeasy = Speakeasy(host=DEFAULT_HOST_URL, username=username, password=password)\n",
    "        self.speakeasy.login()  # This framework will help you log out automatically when the program terminates.\n",
    "\n",
    "    def answer_query(self, query):\n",
    "        answer = bot_simple_rec.recommend_movies(query)\n",
    "        if 'Could you rephrase' in answer:\n",
    "            answer = bot_rec.get_recommendation(query)\n",
    "\n",
    "        return answer\n",
    "\n",
    "        # if 'recommend' in query.lower():\n",
    "        #     output = bot_rec.get_recommendation(query)\n",
    "        \n",
    "        # else:\n",
    "        #     output = bot_pos.get_factual__pos(query)\n",
    "\n",
    "        #     if output == \"Could not find answer in graph\":\n",
    "        #         output = bot_ner(query)\n",
    "\n",
    "        # return output\n",
    "\n",
    "    def listen(self):\n",
    "        while True:\n",
    "            # only check active chatrooms (i.e., remaining_time > 0) if active=True.\n",
    "            rooms: List[Chatroom] = self.speakeasy.get_rooms(active=True)\n",
    "            for room in rooms:\n",
    "                if not room.initiated:\n",
    "                    # send a welcome message if room is not initiated\n",
    "                    room.post_messages(f'Hello! And Gruetzig, Merhaba, Bonjour! How can I help you today?')\n",
    "                    room.initiated = True\n",
    "                # Retrieve messages from this chat room.\n",
    "                # If only_partner=True, it filters out messages sent by the current bot.\n",
    "                # If only_new=True, it filters out messages that have already been marked as processed.\n",
    "                for message in room.get_messages(only_partner=True, only_new=True):\n",
    "                    print(\n",
    "                        f\"\\t- Chatroom {room.room_id} \"\n",
    "                        f\"- new message #{message.ordinal}: '{message.message}' \"\n",
    "                        f\"- {self.get_time()}\")\n",
    "\n",
    "                    # Implement your agent here #\n",
    "                    if (message.message.lower() == \"hi\") | (message.message.lower() == \"hello\"):\n",
    "                        answer='Hello! And Gruetzig, Merhaba, Bonjour! How can I help you today?'\n",
    "                    else:\n",
    "                        try:\n",
    "                            answer = self.answer_query(message.message)\n",
    "                        except:\n",
    "                            answer = \"Sorry :( I could not understand you. Can you rephrase your question?\"\n",
    "                    # Send a message to the corresponding chat room using the post_messages method of the room object.\n",
    "                    room.post_messages(f\"{answer.encode('utf-8')}\")\n",
    "                    # Mark the message as processed, so it will be filtered out when retrieving new messages.\n",
    "                    room.mark_as_processed(message)\n",
    "\n",
    "                # Retrieve reactions from this chat room.\n",
    "                # If only_new=True, it filters out reactions that have already been marked as processed.\n",
    "                for reaction in room.get_reactions(only_new=True):\n",
    "                    print(\n",
    "                        f\"\\t- Chatroom {room.room_id} \"\n",
    "                        f\"- new reaction #{reaction.message_ordinal}: '{reaction.type}' \"\n",
    "                        f\"- {self.get_time()}\")\n",
    "\n",
    "                    # Implement your agent here #\n",
    "\n",
    "                    room.post_messages(f\"Received your reaction: '{reaction.type}' \")\n",
    "                    room.mark_as_processed(reaction)\n",
    "\n",
    "            time.sleep(listen_freq)\n",
    "\n",
    "    @staticmethod\n",
    "    def get_time():\n",
    "        return time.strftime(\"%H:%M:%S, %d-%m-%Y\", time.localtime())\n"
   ]
  },
  {
   "cell_type": "code",
   "execution_count": null,
   "metadata": {},
   "outputs": [],
   "source": [
    "demo_bot = Agent(config(\"UZH_BOT_USERNAME\"), config(\"UZH_BOT_PASSWORD\"))\n",
    "demo_bot.listen()"
   ]
  },
  {
   "cell_type": "code",
   "execution_count": null,
   "metadata": {},
   "outputs": [],
   "source": []
  }
 ],
 "metadata": {
  "colab": {
   "authorship_tag": "ABX9TyNC2BzrVbq+mNDgGNziLFpm",
   "collapsed_sections": [],
   "name": "dataset_intro.ipynb",
   "provenance": []
  },
  "kernelspec": {
   "display_name": "env",
   "language": "python",
   "name": "python3"
  },
  "language_info": {
   "codemirror_mode": {
    "name": "ipython",
    "version": 3
   },
   "file_extension": ".py",
   "mimetype": "text/x-python",
   "name": "python",
   "nbconvert_exporter": "python",
   "pygments_lexer": "ipython3",
   "version": "3.9.12"
  }
 },
 "nbformat": 4,
 "nbformat_minor": 4
}

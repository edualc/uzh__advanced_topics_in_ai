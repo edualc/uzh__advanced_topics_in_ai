{
 "cells": [
  {
   "cell_type": "markdown",
   "metadata": {
    "id": "53nBQpYb37bw"
   },
   "source": [
    "## 1. Data Load\n"
   ]
  },
  {
   "cell_type": "code",
   "execution_count": 1,
   "metadata": {},
   "outputs": [
    {
     "data": {
      "text/plain": [
       "'/home/claude/development/uzh__advanced_topics_in_ai'"
      ]
     },
     "execution_count": 1,
     "metadata": {},
     "output_type": "execute_result"
    }
   ],
   "source": [
    "import os\n",
    "import sys\n",
    "\n",
    "if os.getcwd().split('/')[-1] == 'notebooks':\n",
    "    os.chdir('../')\n",
    "os.getcwd()"
   ]
  },
  {
   "cell_type": "code",
   "execution_count": 2,
   "metadata": {
    "colab": {
     "base_uri": "https://localhost:8080/",
     "height": 255
    },
    "executionInfo": {
     "elapsed": 12393,
     "status": "ok",
     "timestamp": 1632683772579,
     "user": {
      "displayName": "Go Friday",
      "photoUrl": "https://lh3.googleusercontent.com/a/default-user=s64",
      "userId": "04257507274310331112"
     },
     "user_tz": -120
    },
    "id": "qsEynPSV4FKf",
    "outputId": "b0a602e6-abbd-497a-ad9d-abbac38a65ab"
   },
   "outputs": [],
   "source": [
    "import plotly.io as pio\n",
    "pio.renderers.default = 'jupyterlab+svg'\n",
    "from speakeasypy import Speakeasy, Chatroom\n",
    "from typing import List\n",
    "import time\n",
    "\n",
    "\n",
    "# NOTE: You might have to download a few things for nltk to work properly\n",
    "import nltk\n",
    "from nltk.corpus import wordnet as wn\n",
    "from nltk import Tree\n",
    "# nltk.data.path.append('/Users/melihserin/Desktop/ATAI/env/lib/python3.12/site-packages/nltk_data')\n",
    "\n",
    "# NOTE: You might have to download the en_core_web_sm model for this to work\n",
    "import spacy\n",
    "from spacy import displacy\n",
    "from spacy_wordnet.wordnet_annotator import WordnetAnnotator \n",
    "import os\n",
    "\n",
    "from src.utils import *\n",
    "from src.part_of_speech import FactualBotPartOfSpeech\n",
    "from src.ner import FactualBotNER\n",
    "from src.recommendation import RecommendationBot\n",
    "from src.simple_recommendation import SimpleRecommendationBot"
   ]
  },
  {
   "cell_type": "code",
   "execution_count": 3,
   "metadata": {},
   "outputs": [
    {
     "name": "stdout",
     "output_type": "stream",
     "text": [
      "Graph loaded.\n",
      "Embeddings loaded.\n",
      "Dictionaries loaded.\n",
      "Namespaces loaded.\n",
      "Nodes loaded.\n",
      "Predicates loaded.\n",
      "Namespaces loaded.\n",
      "Namespaces loaded.\n",
      "Crowd dataset loaded.\n"
     ]
    }
   ],
   "source": [
    "g = load_graph()\n",
    "entity_emb, relation_emb = load_embeddings()\n",
    "ent2id, id2ent, rel2id, id2rel, ent2lbl, lbl2ent = load_dictionaries(g)\n",
    "WD, WDT, SCHEMA, DDIS, RDFS = load_namespaces()\n",
    "nodes, predicates = load_nodes_and_preciates(g)\n",
    "movies = load_movies(g, nodes)\n",
    "url2nodes = load_url2nodes(nodes, ent2lbl)\n",
    "genres = load_genres(g, predicates, ent2lbl)\n",
    "cast_members = load_cast_members(g, ent2lbl)\n",
    "crowd_data = load_crowd_data()"
   ]
  },
  {
   "cell_type": "code",
   "execution_count": 4,
   "metadata": {},
   "outputs": [],
   "source": [
    "TEST_RECOMMENDATIONS = [\n",
    "    \"I loved Inception. Can you recommend similar movies?\",\n",
    "    \"I’m in the mood for something funny. Any good comedies you’d recommend?\",\n",
    "    \"Can you suggest some good action movies?\",\n",
    "    \"I want to watch comedy movies.\",\n",
    "    \"Recommend me a drama movie\",\n",
    "    \"Can you recommend me a movie with Ryan Gosling?\"\n",
    "]"
   ]
  },
  {
   "cell_type": "code",
   "execution_count": 5,
   "metadata": {},
   "outputs": [],
   "source": [
    "TEST_QUESTIONS = [\n",
    "    \"What is the genre of Good Neighbors?\",\n",
    "    'Who directed Apocalypse Now?',\n",
    "    \"Who is the director of Star Wars Episode VI - Return of the Jedi?\",\n",
    "    \"Who is the screenwriter of The Masked Gang: Cyprus?\",\n",
    "    'When was The Godfather released?',\n",
    "    \"Who is the producer of Inception?\",\n",
    "    \"Who composed the soundtrack for Jurassic Park?\",\n",
    "    \"When was Pulp Fiction released?\",\n",
    "    \"Who played the lead role in The Matrix?\",\n",
    "    \"Who directed Blade Runner 2049?\",\n",
    "    \"What is the running time of The Shawshank Redemption?\",\n",
    "    \"Who was the cinematographer for Mad Max: Fury Road?\",\n",
    "    \"When did Titanic premiere?\",\n",
    "    \"Who wrote the screenplay for The Social Network?\",\n",
    "    \"What is the box office gross of Avatar?\",\n",
    "    \"Who edited the movie Parasite?\",\n",
    "    \"What is the budget of Halloween?\",\n",
    "    \"Who starred as the main character in Forrest Gump?\",\n",
    "    \"When was Interstellar first released?\",\n",
    "    \"Who is the production designer of Dune (2021)?\",\n",
    "    \"Who is the production designer of Dune?\",\n",
    "]"
   ]
  },
  {
   "cell_type": "markdown",
   "metadata": {},
   "source": [
    "## Part of Speech - Factual Questions"
   ]
  },
  {
   "cell_type": "code",
   "execution_count": 6,
   "metadata": {},
   "outputs": [
    {
     "data": {
      "text/plain": [
       "'According to the graph, I think the answer is Robert Zemeckis.'"
      ]
     },
     "execution_count": 6,
     "metadata": {},
     "output_type": "execute_result"
    }
   ],
   "source": [
    "bot_pos = FactualBotPartOfSpeech(g, nodes, predicates)\n",
    "bot_pos.get_factual__pos('Who is the director of Forrest Gump?')"
   ]
  },
  {
   "cell_type": "markdown",
   "metadata": {},
   "source": [
    "## NER - Factual Questions"
   ]
  },
  {
   "cell_type": "code",
   "execution_count": 7,
   "metadata": {},
   "outputs": [
    {
     "name": "stderr",
     "output_type": "stream",
     "text": [
      "Some weights of the model checkpoint at dslim/bert-base-NER were not used when initializing BertForTokenClassification: ['bert.pooler.dense.bias', 'bert.pooler.dense.weight']\n",
      "- This IS expected if you are initializing BertForTokenClassification from the checkpoint of a model trained on another task or with another architecture (e.g. initializing a BertForSequenceClassification model from a BertForPreTraining model).\n",
      "- This IS NOT expected if you are initializing BertForTokenClassification from the checkpoint of a model that you expect to be exactly identical (initializing a BertForSequenceClassification model from a BertForSequenceClassification model).\n",
      "Hardware accelerator e.g. GPU is available in the environment, but no `device` argument is passed to the `Pipeline` object. Model will be on CPU.\n"
     ]
    },
    {
     "data": {
      "text/plain": [
       "'According to the the graph, the director of Forrest Gump is Robert Zemeckis.'"
      ]
     },
     "execution_count": 7,
     "metadata": {},
     "output_type": "execute_result"
    }
   ],
   "source": [
    "bot_ner = FactualBotNER(g, nodes,url2nodes, predicates, entity_emb, relation_emb, ent2id, rel2id, ent2lbl, lbl2ent, id2ent,crowd_data)\n",
    "bot_ner('Who is the director of Forrest Gump?')"
   ]
  },
  {
   "cell_type": "code",
   "execution_count": 8,
   "metadata": {},
   "outputs": [
    {
     "data": {
      "text/plain": [
       "'The box office of The Princess and the Frog is 267000000.\\n[Crowd, inter-rater agreement 0.6182, The answer distribution for this specific was 2 support votes, 1 reject votes]'"
      ]
     },
     "execution_count": 8,
     "metadata": {},
     "output_type": "execute_result"
    }
   ],
   "source": [
    "bot_ner(\"What is the box office of The Princess and the Frog?\")"
   ]
  },
  {
   "cell_type": "code",
   "execution_count": 9,
   "metadata": {},
   "outputs": [
    {
     "data": {
      "text/plain": [
       "'The executive producer of X-Men: First Class is Sheryl Lee Ralph.\\n[Crowd, inter-rater agreement 0.6317, The answer distribution for this specific was 2 support votes, 1 reject votes]'"
      ]
     },
     "execution_count": 9,
     "metadata": {},
     "output_type": "execute_result"
    }
   ],
   "source": [
    "bot_ner(\"Who is the executive producer of X-Men: First Class?\")"
   ]
  },
  {
   "cell_type": "code",
   "execution_count": 10,
   "metadata": {},
   "outputs": [
    {
     "data": {
      "text/plain": [
       "'The publication date of Tom Meets Zizou is 2010-10-01.\\n[Crowd, inter-rater agreement 0.5200, The answer distribution for this specific was 0 support votes, 3 reject votes]'"
      ]
     },
     "execution_count": 10,
     "metadata": {},
     "output_type": "execute_result"
    }
   ],
   "source": [
    "bot_ner(\"Can you tell me the publication date of Tom Meets Zizou?\")"
   ]
  },
  {
   "cell_type": "markdown",
   "metadata": {},
   "source": [
    "## Recommendation: NER Approach"
   ]
  },
  {
   "cell_type": "code",
   "execution_count": 11,
   "metadata": {},
   "outputs": [],
   "source": [
    "del sys.modules['src.recommendation']\n",
    "from src.recommendation import RecommendationBot"
   ]
  },
  {
   "cell_type": "code",
   "execution_count": 12,
   "metadata": {},
   "outputs": [
    {
     "name": "stdout",
     "output_type": "stream",
     "text": [
      "If you like comedy movies, I would recommend you watch Much Ado About Nothing.\n"
     ]
    }
   ],
   "source": [
    "bot_rec = RecommendationBot(bot_ner, g, nodes, predicates, genres, movies, url2nodes, entity_emb, rel2id, ent2id, id2ent, relation_emb,cast_members)\n",
    "print(bot_rec.get_recommendation(\"I want to watch comedy movies.\"))"
   ]
  },
  {
   "cell_type": "code",
   "execution_count": 13,
   "metadata": {},
   "outputs": [
    {
     "data": {
      "text/plain": [
       "'Oh, Ryan Gosling and others you mentioned have great films! I would recommend you watch The Terminal,The Post, and Bridge of Spies.'"
      ]
     },
     "execution_count": 13,
     "metadata": {},
     "output_type": "execute_result"
    }
   ],
   "source": [
    "question = \"Recommend movies Ryan Gosling and Tom Hanks played in.\"\n",
    "bot_rec.get_recommendation(question)"
   ]
  },
  {
   "cell_type": "code",
   "execution_count": 14,
   "metadata": {},
   "outputs": [
    {
     "name": "stdout",
     "output_type": "stream",
     "text": [
      "Question: I loved Inception. Can you recommend similar movies?\n",
      "\t Based on what you like, I would recommend you watching movie with the genres drama, thriller, comedy such as Interstellar.\n",
      "\n",
      "Question: I’m in the mood for something funny. Any good comedies you’d recommend?\n",
      "\t Sorry, I cannot recommend you a movie based on your query. The reasons might be that I do not know the movies you mentioned or there is a minor problem with the format of your input. You might want to re-check and/or rephrase your sentence. I will be waiting here. \n",
      "\n",
      "Question: Can you suggest some good action movies?\n",
      "\t If you like action movies, I would recommend you watch The Lost Samaritan.\n",
      "\n",
      "Question: I want to watch comedy movies.\n",
      "\t If you like comedy movies, I would recommend you watch Much Ado About Nothing.\n",
      "\n",
      "Question: Recommend me a drama movie\n",
      "\t If you like drama movies, I would recommend you watch The House of Bernarda Alba.\n",
      "\n",
      "Question: Can you recommend me a movie with Ryan Gosling?\n",
      "\t Oh, Ryan Gosling has great films! I would recommend you watch Remember the Titans,The Slaughter Rule, and All Good Things.\n",
      "\n"
     ]
    }
   ],
   "source": [
    "for question in TEST_RECOMMENDATIONS:\n",
    "    print(f\"Question: {question}\")\n",
    "    print('\\t', bot_rec.get_recommendation(question))\n",
    "    print()"
   ]
  },
  {
   "cell_type": "markdown",
   "metadata": {},
   "source": [
    "## Recommendation: Vector Similarity Ideas"
   ]
  },
  {
   "cell_type": "code",
   "execution_count": 43,
   "metadata": {},
   "outputs": [],
   "source": [
    "del sys.modules['src.simple_recommendation']\n",
    "from src.simple_recommendation import SimpleRecommendationBot"
   ]
  },
  {
   "cell_type": "code",
   "execution_count": 44,
   "metadata": {},
   "outputs": [
    {
     "name": "stdout",
     "output_type": "stream",
     "text": [
      "Namespaces loaded.\n"
     ]
    }
   ],
   "source": [
    "bot_simple_rec = SimpleRecommendationBot(g)"
   ]
  },
  {
   "cell_type": "code",
   "execution_count": 42,
   "metadata": {},
   "outputs": [
    {
     "data": {
      "text/plain": [
       "'0670/rm3168210944'"
      ]
     },
     "execution_count": 42,
     "metadata": {},
     "output_type": "execute_result"
    }
   ],
   "source": [
    "import random\n",
    "random.choice(bot_simple_rec.actor_images['nm0331516'])"
   ]
  },
  {
   "cell_type": "code",
   "execution_count": 48,
   "metadata": {},
   "outputs": [
    {
     "data": {
      "text/plain": [
       "'image:3301/rm927415296'"
      ]
     },
     "execution_count": 48,
     "metadata": {},
     "output_type": "execute_result"
    }
   ],
   "source": [
    "bot_simple_rec.show_images('show me an image of Mark Hamill')"
   ]
  },
  {
   "cell_type": "code",
   "execution_count": 49,
   "metadata": {},
   "outputs": [
    {
     "data": {
      "text/plain": [
       "(['a.i. artificial intelligence', 'michael'],\n",
       " [],\n",
       " ['leonardo dicaprio', 'michael sheen'])"
      ]
     },
     "execution_count": 49,
     "metadata": {},
     "output_type": "execute_result"
    }
   ],
   "source": [
    "bot_simple_rec.get_entities('Given that I like A.I. Artificial Intelligence, can you recommend some movies from leonardo dicaprio and michael sheen?')"
   ]
  },
  {
   "cell_type": "code",
   "execution_count": 50,
   "metadata": {},
   "outputs": [
    {
     "name": "stdout",
     "output_type": "stream",
     "text": [
      "Found movies:  ['the lion king', 'life of pi', 'the hunger']\n",
      "Found genres:  ['coming-of-age story']\n",
      "Found actors:  ['benedict cumberbatch', 'leonardo dicaprio']\n"
     ]
    }
   ],
   "source": [
    "test_string = \"\"\"\n",
    "    coming-of-age the beauty and the beast with leonardo dicaprio benedict cumberbatch\n",
    "    What movies can you recommend if I like The, beauty and the beast Life of Pi,\n",
    "    Lion King, the Lion King, Star Wars, Harry Potter and the Hunger Games?\n",
    "\"\"\"\n",
    "found_movies, found_genres, found_actors = bot_simple_rec.get_entities(test_string)\n",
    "print('Found movies: ', found_movies)\n",
    "print('Found genres: ', found_genres)\n",
    "print('Found actors: ', found_actors)"
   ]
  },
  {
   "cell_type": "code",
   "execution_count": 54,
   "metadata": {},
   "outputs": [
    {
     "name": "stdout",
     "output_type": "stream",
     "text": [
      "I loved Inception. Can you recommend similar movies?\n",
      "\tDetected movies: ['loved']\n",
      "\tDetected genres: []\n",
      "\tDetected actors: []\n",
      "\n",
      "Recommendation:\t\tLet me think... Ah, yes. Have you tried watching: 'Chaos', 'A True Mob Story' or maybe even 'Shanghai Grand'?\n",
      "Images:\t\t\tI didn't find the actor you were looking for. Could you rephrase?\n",
      "\n",
      "I’m in the mood for something funny. Any good comedies you’d recommend?\n",
      "\tDetected movies: ['good']\n",
      "\tDetected genres: []\n",
      "\tDetected actors: []\n",
      "\n",
      "Recommendation:\t\tLet me think... Ah, yes. Have you tried watching: 'Linger', 'Blind Mountain' or maybe even 'Cairo Time'?\n",
      "Images:\t\t\tI didn't find the actor you were looking for. Could you rephrase?\n",
      "\n",
      "Can you suggest some good action movies?\n",
      "\tDetected movies: ['good']\n",
      "\tDetected genres: ['action film']\n",
      "\tDetected actors: []\n",
      "\n",
      "Recommendation:\t\tLet me think... Ah, yes. Have you tried watching: 'Undisputed II: Last Man Standing', 'I Love You Phillip Morris' or maybe even 'Shinjuku Incident'?\n",
      "Images:\t\t\tI didn't find the actor you were looking for. Could you rephrase?\n",
      "\n",
      "I want to watch comedy movies.\n",
      "\tDetected movies: []\n",
      "\tDetected genres: ['comedy film']\n",
      "\tDetected actors: []\n",
      "\n",
      "Recommendation:\t\tLet me think... Ah, yes. Have you tried watching: 'Buffalo Bill and the Indians, or Sitting Bull's History Lesson', 'Bullseye!' or maybe even 'The Big Hit'?\n",
      "Images:\t\t\tI didn't find the actor you were looking for. Could you rephrase?\n",
      "\n",
      "Recommend me a drama movie\n",
      "\tDetected movies: []\n",
      "\tDetected genres: ['drama']\n",
      "\tDetected actors: []\n",
      "\n",
      "Recommendation:\t\tLet me think... Ah, yes. Have you tried watching: 'What We Wanted', 'Linger' or maybe even 'Amerika'?\n",
      "Images:\t\t\tI didn't find the actor you were looking for. Could you rephrase?\n",
      "\n",
      "Can you recommend me a movie with Ryan Gosling?\n",
      "\tDetected movies: []\n",
      "\tDetected genres: []\n",
      "\tDetected actors: ['ryan gosling']\n",
      "\n",
      "Recommendation:\t\tHmm, I couldn't find any movies or genres in your query. Could you rephrase?\n",
      "Images:\t\t\timage:2359/rm2547471872\n",
      "\n"
     ]
    }
   ],
   "source": [
    "movie2idx = {movie: i for i, movie in enumerate(bot_simple_rec.movie_genres.keys())}\n",
    "\n",
    "for question in TEST_RECOMMENDATIONS:\n",
    "    print(question)\n",
    "    found_movies, found_genres, found_actors = bot_simple_rec.get_entities(question)\n",
    "    print(f\"\\tDetected movies: {found_movies}\")\n",
    "    print(f\"\\tDetected genres: {found_genres}\")\n",
    "    print(f\"\\tDetected actors: {found_actors}\")\n",
    "    print()\n",
    "    print(f\"Recommendation:\\t\\t{bot_simple_rec.recommend_movies(question)}\")\n",
    "    print(f\"Images:\\t\\t\\t{bot_simple_rec.show_images(question)}\")\n",
    "    print()\n"
   ]
  },
  {
   "cell_type": "markdown",
   "metadata": {},
   "source": [
    "## Evaluation 4"
   ]
  },
  {
   "cell_type": "code",
   "execution_count": 55,
   "metadata": {},
   "outputs": [],
   "source": [
    "from decouple import config\n",
    "DEFAULT_HOST_URL = config(\"UZH_SPEAKEASY_HOST\")\n",
    "listen_freq = 2\n",
    "\n",
    "\n",
    "class Agent:\n",
    "    def __init__(self, username, password):\n",
    "        self.username = username\n",
    "        # Initialize the Speakeasy Python framework and login.\n",
    "        self.speakeasy = Speakeasy(host=DEFAULT_HOST_URL, username=username, password=password)\n",
    "        self.speakeasy.login()  # This framework will help you log out automatically when the program terminates.\n",
    "\n",
    "    def any_in_list(self, string: str, elements: List[str]) -> bool:\n",
    "        return any([element in string for element in elements])\n",
    "\n",
    "    def answer_query(self, query):\n",
    "        if self.any_in_list(query, ['show', 'image', 'picture']) or (('look' in query) and ('like' in query)):\n",
    "            # do image recommendation\n",
    "            answer = bot_simple_rec.show_images(query)\n",
    "            return answer\n",
    "\n",
    "        if self.any_in_list(query, ['recommend', 'suggest', 'like']):\n",
    "            # do movie recommendation\n",
    "            answer = bot_simple_rec.recommend_movies(query)\n",
    "            if 'Could you rephrase' in answer:\n",
    "                answer = bot_rec.get_recommendation(query)\n",
    "\n",
    "            return answer\n",
    "\n",
    "        # do fact/embedding/crowd recommendation\n",
    "        answer = bot_ner(query)\n",
    "        if 'Sorry, I could not' in answer:\n",
    "            answer = bot_pos.get_factual__pos(query)\n",
    "\n",
    "        return answer\n",
    "\n",
    "\n",
    "    def listen(self):\n",
    "        while True:\n",
    "            # only check active chatrooms (i.e., remaining_time > 0) if active=True.\n",
    "            rooms: List[Chatroom] = self.speakeasy.get_rooms(active=True)\n",
    "            for room in rooms:\n",
    "                if not room.initiated:\n",
    "                    # send a welcome message if room is not initiated\n",
    "                    room.post_messages(f'Hello! And Gruetzi, Merhaba, Bonjour! How can I help you today?')\n",
    "                    room.initiated = True\n",
    "                # Retrieve messages from this chat room.\n",
    "                # If only_partner=True, it filters out messages sent by the current bot.\n",
    "                # If only_new=True, it filters out messages that have already been marked as processed.\n",
    "                for message in room.get_messages(only_partner=True, only_new=True):\n",
    "                    print(\n",
    "                        f\"\\t- Chatroom {room.room_id} \"\n",
    "                        f\"- new message #{message.ordinal}: '{message.message}' \"\n",
    "                        f\"- {self.get_time()}\")\n",
    "\n",
    "                    # Implement your agent here #\n",
    "                    if (message.message.lower() == \"hi\") | (message.message.lower() == \"hello\"):\n",
    "                        answer='Hello! And Gruetzi, Merhaba, Bonjour! How can I help you today?'\n",
    "                    else:\n",
    "                        try:\n",
    "                            answer = self.answer_query(message.message)\n",
    "                        except:\n",
    "                            answer = \"Sorry :( I could not understand you. Can you rephrase your question?\"\n",
    "                    # Send a message to the corresponding chat room using the post_messages method of the room object.\n",
    "                    room.post_messages(f\"{answer.encode('utf-8')}\")\n",
    "                    # Mark the message as processed, so it will be filtered out when retrieving new messages.\n",
    "                    room.mark_as_processed(message)\n",
    "\n",
    "                # Retrieve reactions from this chat room.\n",
    "                # If only_new=True, it filters out reactions that have already been marked as processed.\n",
    "                for reaction in room.get_reactions(only_new=True):\n",
    "                    print(\n",
    "                        f\"\\t- Chatroom {room.room_id} \"\n",
    "                        f\"- new reaction #{reaction.message_ordinal}: '{reaction.type}' \"\n",
    "                        f\"- {self.get_time()}\")\n",
    "\n",
    "                    # Implement your agent here #\n",
    "\n",
    "                    room.post_messages(f\"Received your reaction: '{reaction.type}' \")\n",
    "                    room.mark_as_processed(reaction)\n",
    "\n",
    "            time.sleep(listen_freq)\n",
    "\n",
    "    @staticmethod\n",
    "    def get_time():\n",
    "        return time.strftime(\"%H:%M:%S, %d-%m-%Y\", time.localtime())\n"
   ]
  },
  {
   "cell_type": "code",
   "execution_count": null,
   "metadata": {},
   "outputs": [
    {
     "name": "stdout",
     "output_type": "stream",
     "text": [
      "Login successful. Session token: eonOZ49fukaWbJUoxkvXUXjFb7ue7TT_\n",
      "\t- Chatroom c22c971e-a270-421e-9c6b-b5cc7f1cf34b - new message #1: 'I'd like to see an image of Mark Hamill' - 23:17:00, 05-12-2024\n",
      "\t- Chatroom c22c971e-a270-421e-9c6b-b5cc7f1cf34b - new message #3: 'can you show me an image of Leonardo Dicaprio' - 23:17:29, 05-12-2024\n",
      "\t- Chatroom c22c971e-a270-421e-9c6b-b5cc7f1cf34b - new message #5: 'I loved Inception. Can you recommend similar movies?' - 23:18:11, 05-12-2024\n",
      "\t- Chatroom c22c971e-a270-421e-9c6b-b5cc7f1cf34b - new message #7: 'coming-of-age the beauty and the beast with leonardo dicaprio benedict cumberbatch\n",
      "    What movies can you recommend if I like The, beauty and the beast Life of Pi,\n",
      "    Lion King, the Lion King, Star Wars, Harry Potter and the Hunger Games?' - 23:18:54, 05-12-2024\n",
      "\t- Chatroom c22c971e-a270-421e-9c6b-b5cc7f1cf34b - new message #9: 'Given that I like A.I. Artificial Intelligence, can you recommend some movies from leonardo dicaprio and michael sheen?' - 23:19:09, 05-12-2024\n",
      "\t- Chatroom c22c971e-a270-421e-9c6b-b5cc7f1cf34b - new message #11: 'What does Michael Sheen look like?' - 23:19:17, 05-12-2024\n",
      "\t- Chatroom c22c971e-a270-421e-9c6b-b5cc7f1cf34b - new message #13: 'What is the box office of Inception' - 23:19:35, 05-12-2024\n",
      "\t- Chatroom c22c971e-a270-421e-9c6b-b5cc7f1cf34b - new message #15: 'Who directed Inception' - 23:20:31, 05-12-2024\n",
      "\t- Chatroom c22c971e-a270-421e-9c6b-b5cc7f1cf34b - new message #17: 'recommend some action movies' - 23:20:48, 05-12-2024\n",
      "\t- Chatroom c22c971e-a270-421e-9c6b-b5cc7f1cf34b - new message #19: 'who is the director of A, and It?' - 23:21:00, 05-12-2024\n",
      "\t- Chatroom c22c971e-a270-421e-9c6b-b5cc7f1cf34b - new message #21: 'Recommend movies like Forest Gump and The Lord of the Rings: The Fellowship of the Ring.' - 23:21:21, 05-12-2024\n",
      "\t- Chatroom c22c971e-a270-421e-9c6b-b5cc7f1cf34b - new message #23: 'Recommend movies similar to Star Wars: Episode IV - A New Hope.' - 23:21:33, 05-12-2024\n",
      "\t- Chatroom c22c971e-a270-421e-9c6b-b5cc7f1cf34b - new message #25: 'Are there movies similar to The Dark Knight, Logan, or Joker that you can recommend?' - 23:22:45, 05-12-2024\n"
     ]
    }
   ],
   "source": [
    "demo_bot = Agent(config(\"UZH_BOT_USERNAME\"), config(\"UZH_BOT_PASSWORD\"))\n",
    "demo_bot.listen()"
   ]
  },
  {
   "cell_type": "code",
   "execution_count": null,
   "metadata": {},
   "outputs": [],
   "source": []
  }
 ],
 "metadata": {
  "colab": {
   "authorship_tag": "ABX9TyNC2BzrVbq+mNDgGNziLFpm",
   "collapsed_sections": [],
   "name": "dataset_intro.ipynb",
   "provenance": []
  },
  "kernelspec": {
   "display_name": "env",
   "language": "python",
   "name": "python3"
  },
  "language_info": {
   "codemirror_mode": {
    "name": "ipython",
    "version": 3
   },
   "file_extension": ".py",
   "mimetype": "text/x-python",
   "name": "python",
   "nbconvert_exporter": "python",
   "pygments_lexer": "ipython3",
   "version": "3.9.12"
  }
 },
 "nbformat": 4,
 "nbformat_minor": 4
}

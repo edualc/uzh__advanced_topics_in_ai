{
 "cells": [
  {
   "cell_type": "markdown",
   "metadata": {
    "id": "53nBQpYb37bw"
   },
   "source": [
    "## 1. Data Load\n"
   ]
  },
  {
   "cell_type": "code",
   "execution_count": 1,
   "metadata": {},
   "outputs": [
    {
     "data": {
      "text/plain": [
       "'/home/claude/development/uzh__advanced_topics_in_ai'"
      ]
     },
     "execution_count": 1,
     "metadata": {},
     "output_type": "execute_result"
    }
   ],
   "source": [
    "import os\n",
    "import sys\n",
    "\n",
    "if os.getcwd().split('/')[-1] == 'notebooks':\n",
    "    os.chdir('../')\n",
    "os.getcwd()"
   ]
  },
  {
   "cell_type": "code",
   "execution_count": 2,
   "metadata": {
    "colab": {
     "base_uri": "https://localhost:8080/",
     "height": 255
    },
    "executionInfo": {
     "elapsed": 12393,
     "status": "ok",
     "timestamp": 1632683772579,
     "user": {
      "displayName": "Go Friday",
      "photoUrl": "https://lh3.googleusercontent.com/a/default-user=s64",
      "userId": "04257507274310331112"
     },
     "user_tz": -120
    },
    "id": "qsEynPSV4FKf",
    "outputId": "b0a602e6-abbd-497a-ad9d-abbac38a65ab"
   },
   "outputs": [],
   "source": [
    "import plotly.io as pio\n",
    "pio.renderers.default = 'jupyterlab+svg'\n",
    "from speakeasypy import Speakeasy, Chatroom\n",
    "from typing import List\n",
    "import time\n",
    "\n",
    "\n",
    "# NOTE: You might have to download a few things for nltk to work properly\n",
    "import nltk\n",
    "from nltk.corpus import wordnet as wn\n",
    "from nltk import Tree\n",
    "# nltk.data.path.append('/Users/melihserin/Desktop/ATAI/env/lib/python3.12/site-packages/nltk_data')\n",
    "\n",
    "# NOTE: You might have to download the en_core_web_sm model for this to work\n",
    "import spacy\n",
    "from spacy import displacy\n",
    "from spacy_wordnet.wordnet_annotator import WordnetAnnotator \n",
    "import os\n",
    "\n",
    "from src.utils import *\n",
    "from src.part_of_speech import FactualBotPartOfSpeech\n",
    "from src.ner import FactualBotNER\n",
    "from src.recommendation import RecommendationBot\n",
    "from src.simple_recommendation import SimpleRecommendationBot"
   ]
  },
  {
   "cell_type": "code",
   "execution_count": 3,
   "metadata": {},
   "outputs": [
    {
     "name": "stdout",
     "output_type": "stream",
     "text": [
      "Graph loaded.\n",
      "Embeddings loaded.\n",
      "Dictionaries loaded.\n",
      "Namespaces loaded.\n",
      "Nodes loaded.\n",
      "Predicates loaded.\n",
      "Namespaces loaded.\n",
      "Namespaces loaded.\n",
      "Crowd dataset loaded.\n"
     ]
    }
   ],
   "source": [
    "g = load_graph()\n",
    "entity_emb, relation_emb = load_embeddings()\n",
    "ent2id, id2ent, rel2id, id2rel, ent2lbl, lbl2ent = load_dictionaries(g)\n",
    "WD, WDT, SCHEMA, DDIS, RDFS = load_namespaces()\n",
    "nodes, predicates = load_nodes_and_preciates(g)\n",
    "movies = load_movies(g, nodes)\n",
    "url2nodes = load_url2nodes(nodes, ent2lbl)\n",
    "genres = load_genres(g, predicates, ent2lbl)\n",
    "cast_members = load_cast_members(g, ent2lbl)\n",
    "crowd_data = load_crowd_data()"
   ]
  },
  {
   "cell_type": "code",
   "execution_count": 4,
   "metadata": {},
   "outputs": [],
   "source": [
    "TEST_RECOMMENDATIONS = [\n",
    "    \"I loved Inception. Can you recommend similar movies?\",\n",
    "    \"I’m in the mood for something funny. Any good comedies you’d recommend?\",\n",
    "    \"Can you suggest some good action movies?\",\n",
    "    \"I want to watch comedy movies.\",\n",
    "    \"Recommend me a drama movie\",\n",
    "    \"Can you recommend me a movie with Ryan Gosling?\"\n",
    "]"
   ]
  },
  {
   "cell_type": "code",
   "execution_count": 5,
   "metadata": {},
   "outputs": [],
   "source": [
    "TEST_QUESTIONS = [\n",
    "    \"What is the genre of Good Neighbors?\",\n",
    "    'Who directed Apocalypse Now?',\n",
    "    \"Who is the director of Star Wars Episode VI - Return of the Jedi?\",\n",
    "    \"Who is the screenwriter of The Masked Gang: Cyprus?\",\n",
    "    'When was The Godfather released?',\n",
    "    \"Who is the producer of Inception?\",\n",
    "    \"Who composed the soundtrack for Jurassic Park?\",\n",
    "    \"When was Pulp Fiction released?\",\n",
    "    \"Who played the lead role in The Matrix?\",\n",
    "    \"Who directed Blade Runner 2049?\",\n",
    "    \"What is the running time of The Shawshank Redemption?\",\n",
    "    \"Who was the cinematographer for Mad Max: Fury Road?\",\n",
    "    \"When did Titanic premiere?\",\n",
    "    \"Who wrote the screenplay for The Social Network?\",\n",
    "    \"What is the box office gross of Avatar?\",\n",
    "    \"Who edited the movie Parasite?\",\n",
    "    \"What is the budget of Halloween?\",\n",
    "    \"Who starred as the main character in Forrest Gump?\",\n",
    "    \"When was Interstellar first released?\",\n",
    "    \"Who is the production designer of Dune (2021)?\",\n",
    "    \"Who is the production designer of Dune?\",\n",
    "]"
   ]
  },
  {
   "cell_type": "markdown",
   "metadata": {},
   "source": [
    "## Part of Speech - Factual Questions"
   ]
  },
  {
   "cell_type": "code",
   "execution_count": 6,
   "metadata": {},
   "outputs": [
    {
     "data": {
      "text/plain": [
       "'According to the graph, I think the answer is Robert Zemeckis.'"
      ]
     },
     "execution_count": 6,
     "metadata": {},
     "output_type": "execute_result"
    }
   ],
   "source": [
    "bot_pos = FactualBotPartOfSpeech(g, nodes, predicates)\n",
    "bot_pos.get_factual__pos('Who is the director of Forrest Gump?')"
   ]
  },
  {
   "cell_type": "markdown",
   "metadata": {},
   "source": [
    "## NER - Factual Questions"
   ]
  },
  {
   "cell_type": "code",
   "execution_count": 7,
   "metadata": {},
   "outputs": [
    {
     "name": "stderr",
     "output_type": "stream",
     "text": [
      "Some weights of the model checkpoint at dslim/bert-base-NER were not used when initializing BertForTokenClassification: ['bert.pooler.dense.bias', 'bert.pooler.dense.weight']\n",
      "- This IS expected if you are initializing BertForTokenClassification from the checkpoint of a model trained on another task or with another architecture (e.g. initializing a BertForSequenceClassification model from a BertForPreTraining model).\n",
      "- This IS NOT expected if you are initializing BertForTokenClassification from the checkpoint of a model that you expect to be exactly identical (initializing a BertForSequenceClassification model from a BertForSequenceClassification model).\n",
      "Hardware accelerator e.g. GPU is available in the environment, but no `device` argument is passed to the `Pipeline` object. Model will be on CPU.\n"
     ]
    },
    {
     "data": {
      "text/plain": [
       "'According to the the graph, the director of Forrest Gump is Robert Zemeckis.'"
      ]
     },
     "execution_count": 7,
     "metadata": {},
     "output_type": "execute_result"
    }
   ],
   "source": [
    "bot_ner = FactualBotNER(g, nodes,url2nodes, predicates, entity_emb, relation_emb, ent2id, rel2id, ent2lbl, lbl2ent, id2ent,crowd_data)\n",
    "bot_ner('Who is the director of Forrest Gump?')"
   ]
  },
  {
   "cell_type": "code",
   "execution_count": 8,
   "metadata": {},
   "outputs": [
    {
     "data": {
      "text/plain": [
       "'The box office of The Princess and the Frog is 267000000.\\n[Crowd, inter-rater agreement 0.6182, The answer distribution for this specific was 2 support votes, 1 reject votes]'"
      ]
     },
     "execution_count": 8,
     "metadata": {},
     "output_type": "execute_result"
    }
   ],
   "source": [
    "bot_ner(\"What is the box office of The Princess and the Frog?\")"
   ]
  },
  {
   "cell_type": "code",
   "execution_count": 9,
   "metadata": {},
   "outputs": [
    {
     "data": {
      "text/plain": [
       "'The executive producer of X-Men: First Class is Sheryl Lee Ralph.\\n[Crowd, inter-rater agreement 0.6317, The answer distribution for this specific was 2 support votes, 1 reject votes]'"
      ]
     },
     "execution_count": 9,
     "metadata": {},
     "output_type": "execute_result"
    }
   ],
   "source": [
    "bot_ner(\"Who is the executive producer of X-Men: First Class?\")"
   ]
  },
  {
   "cell_type": "code",
   "execution_count": 10,
   "metadata": {},
   "outputs": [
    {
     "data": {
      "text/plain": [
       "'The publication date of Tom Meets Zizou is 2010-10-01.\\n[Crowd, inter-rater agreement 0.5200, The answer distribution for this specific was 0 support votes, 3 reject votes]'"
      ]
     },
     "execution_count": 10,
     "metadata": {},
     "output_type": "execute_result"
    }
   ],
   "source": [
    "bot_ner(\"Can you tell me the publication date of Tom Meets Zizou?\")"
   ]
  },
  {
   "cell_type": "markdown",
   "metadata": {},
   "source": [
    "## Recommendation: NER Approach"
   ]
  },
  {
   "cell_type": "code",
   "execution_count": 11,
   "metadata": {},
   "outputs": [],
   "source": [
    "del sys.modules['src.recommendation']\n",
    "from src.recommendation import RecommendationBot"
   ]
  },
  {
   "cell_type": "code",
   "execution_count": 12,
   "metadata": {},
   "outputs": [
    {
     "name": "stdout",
     "output_type": "stream",
     "text": [
      "If you like comedy movies, I would recommend you watch Much Ado About Nothing.\n"
     ]
    }
   ],
   "source": [
    "bot_rec = RecommendationBot(bot_ner, g, nodes, predicates, genres, movies, url2nodes, entity_emb, rel2id, ent2id, id2ent, relation_emb,cast_members)\n",
    "print(bot_rec.get_recommendation(\"I want to watch comedy movies.\"))"
   ]
  },
  {
   "cell_type": "code",
   "execution_count": 13,
   "metadata": {},
   "outputs": [
    {
     "data": {
      "text/plain": [
       "'Oh, Ryan Gosling and others you mentioned have great films! I would recommend you watch The Terminal,The Post, and Bridge of Spies.'"
      ]
     },
     "execution_count": 13,
     "metadata": {},
     "output_type": "execute_result"
    }
   ],
   "source": [
    "question = \"Recommend movies Ryan Gosling and Tom Hanks played in.\"\n",
    "bot_rec.get_recommendation(question)"
   ]
  },
  {
   "cell_type": "code",
   "execution_count": 14,
   "metadata": {},
   "outputs": [
    {
     "name": "stdout",
     "output_type": "stream",
     "text": [
      "Question: I loved Inception. Can you recommend similar movies?\n",
      "\t Based on what you like, I would recommend you watching movie with the genres drama, thriller, comedy such as Interstellar.\n",
      "\n",
      "Question: I’m in the mood for something funny. Any good comedies you’d recommend?\n",
      "\t Sorry, I cannot recommend you a movie based on your query. The reasons might be that I do not know the movies you mentioned or there is a minor problem with the format of your input. You might want to re-check and/or rephrase your sentence. I will be waiting here. \n",
      "\n",
      "Question: Can you suggest some good action movies?\n",
      "\t If you like action movies, I would recommend you watch The Lost Samaritan.\n",
      "\n",
      "Question: I want to watch comedy movies.\n",
      "\t If you like comedy movies, I would recommend you watch Much Ado About Nothing.\n",
      "\n",
      "Question: Recommend me a drama movie\n",
      "\t If you like drama movies, I would recommend you watch The House of Bernarda Alba.\n",
      "\n",
      "Question: Can you recommend me a movie with Ryan Gosling?\n",
      "\t Oh, Ryan Gosling has great films! I would recommend you watch Remember the Titans,The Slaughter Rule, and All Good Things.\n",
      "\n"
     ]
    }
   ],
   "source": [
    "for question in TEST_RECOMMENDATIONS:\n",
    "    print(f\"Question: {question}\")\n",
    "    print('\\t', bot_rec.get_recommendation(question))\n",
    "    print()"
   ]
  },
  {
   "cell_type": "markdown",
   "metadata": {},
   "source": [
    "## Recommendation: Vector Similarity Ideas"
   ]
  },
  {
   "cell_type": "code",
   "execution_count": 15,
   "metadata": {},
   "outputs": [],
   "source": [
    "del sys.modules['src.simple_recommendation']\n",
    "from src.simple_recommendation import SimpleRecommendationBot"
   ]
  },
  {
   "cell_type": "code",
   "execution_count": 16,
   "metadata": {},
   "outputs": [
    {
     "name": "stdout",
     "output_type": "stream",
     "text": [
      "Namespaces loaded.\n"
     ]
    }
   ],
   "source": [
    "bot_simple_rec = SimpleRecommendationBot(g)"
   ]
  },
  {
   "cell_type": "code",
   "execution_count": 17,
   "metadata": {},
   "outputs": [
    {
     "data": {
      "text/plain": [
       "(['a.i. artificial intelligence', 'michael'],\n",
       " [],\n",
       " ['leonardo dicaprio', 'michael sheen'])"
      ]
     },
     "execution_count": 17,
     "metadata": {},
     "output_type": "execute_result"
    }
   ],
   "source": [
    "bot_simple_rec.get_entities('Given that I like A.I. Artificial Intelligence, can you recommend some movies from leonardo dicaprio and michael sheen?')"
   ]
  },
  {
   "cell_type": "code",
   "execution_count": 18,
   "metadata": {},
   "outputs": [
    {
     "name": "stdout",
     "output_type": "stream",
     "text": [
      "Found movies:  ['the lion king', 'life of pi', 'the hunger']\n",
      "Found genres:  ['coming-of-age story']\n",
      "Found actors:  ['benedict cumberbatch', 'leonardo dicaprio']\n"
     ]
    }
   ],
   "source": [
    "test_string = \"\"\"\n",
    "    coming-of-age the beauty and the beast with leonardo dicaprio benedict cumberbatch\n",
    "    What movies can you recommend if I like The, beauty and the beast Life of Pi,\n",
    "    Lion King, the Lion King, Star Wars, Harry Potter and the Hunger Games?\n",
    "\"\"\"\n",
    "found_movies, found_genres, found_actors = bot_simple_rec.get_entities(test_string)\n",
    "print('Found movies: ', found_movies)\n",
    "print('Found genres: ', found_genres)\n",
    "print('Found actors: ', found_actors)"
   ]
  },
  {
   "cell_type": "code",
   "execution_count": 19,
   "metadata": {},
   "outputs": [
    {
     "name": "stdout",
     "output_type": "stream",
     "text": [
      "I loved Inception. Can you recommend similar movies?\n",
      "\tDetected movies: ['loved']\n",
      "\tDetected genres: []\n",
      "\tDetected actors: []\n",
      "\n",
      "\tLet me think... Ah, yes. Have you tried watching: 'Chaos', 'A True Mob Story' or maybe even 'Shanghai Grand'?\n",
      "\n",
      "I’m in the mood for something funny. Any good comedies you’d recommend?\n",
      "\tDetected movies: ['good']\n",
      "\tDetected genres: []\n",
      "\tDetected actors: []\n",
      "\n",
      "\tLet me think... Ah, yes. Have you tried watching: 'Linger', 'Blind Mountain' or maybe even 'Cairo Time'?\n",
      "\n",
      "Can you suggest some good action movies?\n",
      "\tDetected movies: ['good']\n",
      "\tDetected genres: ['action film']\n",
      "\tDetected actors: []\n",
      "\n",
      "\tLet me think... Ah, yes. Have you tried watching: 'Undisputed II: Last Man Standing', 'I Love You Phillip Morris' or maybe even 'Shinjuku Incident'?\n",
      "\n",
      "I want to watch comedy movies.\n",
      "\tDetected movies: []\n",
      "\tDetected genres: ['comedy film']\n",
      "\tDetected actors: []\n",
      "\n",
      "\tLet me think... Ah, yes. Have you tried watching: 'Buffalo Bill and the Indians, or Sitting Bull's History Lesson', 'Bullseye!' or maybe even 'The Big Hit'?\n",
      "\n",
      "Recommend me a drama movie\n",
      "\tDetected movies: []\n",
      "\tDetected genres: ['drama']\n",
      "\tDetected actors: []\n",
      "\n",
      "\tLet me think... Ah, yes. Have you tried watching: 'What We Wanted', 'Linger' or maybe even 'Amerika'?\n",
      "\n",
      "Can you recommend me a movie with Ryan Gosling?\n",
      "\tDetected movies: []\n",
      "\tDetected genres: []\n",
      "\tDetected actors: ['ryan gosling']\n",
      "\n",
      "\tHmm, I couldn't find any movies or genres in your query. Could you rephrase?\n",
      "\n"
     ]
    }
   ],
   "source": [
    "movie2idx = {movie: i for i, movie in enumerate(bot_simple_rec.movie_genres.keys())}\n",
    "\n",
    "for question in TEST_RECOMMENDATIONS:\n",
    "    print(question)\n",
    "    found_movies, found_genres, found_actors = bot_simple_rec.get_entities(question)\n",
    "    print(f\"\\tDetected movies: {found_movies}\")\n",
    "    print(f\"\\tDetected genres: {found_genres}\")\n",
    "    print(f\"\\tDetected actors: {found_actors}\")\n",
    "    print()\n",
    "    print(f\"\\t{bot_simple_rec.recommend_movies(question)}\")\n",
    "    print()\n"
   ]
  },
  {
   "cell_type": "markdown",
   "metadata": {},
   "source": [
    "## Evaluation 4"
   ]
  },
  {
   "cell_type": "code",
   "execution_count": null,
   "metadata": {},
   "outputs": [],
   "source": [
    "from decouple import config\n",
    "DEFAULT_HOST_URL = config(\"UZH_SPEAKEASY_HOST\")\n",
    "listen_freq = 2\n",
    "\n",
    "\n",
    "class Agent:\n",
    "    def __init__(self, username, password):\n",
    "        self.username = username\n",
    "        # Initialize the Speakeasy Python framework and login.\n",
    "        self.speakeasy = Speakeasy(host=DEFAULT_HOST_URL, username=username, password=password)\n",
    "        self.speakeasy.login()  # This framework will help you log out automatically when the program terminates.\n",
    "\n",
    "    def any_in_list(self, string: str, elements: List[str]) -> bool:\n",
    "        return any([element in string for element in elements])\n",
    "\n",
    "    def answer_query(self, query):\n",
    "        if self.any_in_list(query, ['show', 'image', 'picture']) or (('look' in query) and ('like' in query)):\n",
    "            # do image recommendation\n",
    "            answer = bot_simple_rec.show_images(query)\n",
    "            return answer\n",
    "\n",
    "        if self.any_in_list(query, ['recommend', 'suggest', 'like']):\n",
    "            # do movie recommendation\n",
    "            answer = bot_simple_rec.recommend_movies(query)\n",
    "            if 'Could you rephrase' in answer:\n",
    "                answer = bot_rec.get_recommendation(query)\n",
    "\n",
    "            return answer\n",
    "\n",
    "        # do fact/embedding/crowd recommendation\n",
    "        answer = bot_ner(query)\n",
    "        if 'Sorry, I could not' in answer:\n",
    "            answer = bot_pos.get_factual__pos(query)\n",
    "\n",
    "        return answer\n",
    "\n",
    "\n",
    "    def listen(self):\n",
    "        while True:\n",
    "            # only check active chatrooms (i.e., remaining_time > 0) if active=True.\n",
    "            rooms: List[Chatroom] = self.speakeasy.get_rooms(active=True)\n",
    "            for room in rooms:\n",
    "                if not room.initiated:\n",
    "                    # send a welcome message if room is not initiated\n",
    "                    room.post_messages(f'Hello! And Gruetzig, Merhaba, Bonjour! How can I help you today?')\n",
    "                    room.initiated = True\n",
    "                # Retrieve messages from this chat room.\n",
    "                # If only_partner=True, it filters out messages sent by the current bot.\n",
    "                # If only_new=True, it filters out messages that have already been marked as processed.\n",
    "                for message in room.get_messages(only_partner=True, only_new=True):\n",
    "                    print(\n",
    "                        f\"\\t- Chatroom {room.room_id} \"\n",
    "                        f\"- new message #{message.ordinal}: '{message.message}' \"\n",
    "                        f\"- {self.get_time()}\")\n",
    "\n",
    "                    # Implement your agent here #\n",
    "                    if (message.message.lower() == \"hi\") | (message.message.lower() == \"hello\"):\n",
    "                        answer='Hello! And Gruetzig, Merhaba, Bonjour! How can I help you today?'\n",
    "                    else:\n",
    "                        try:\n",
    "                            answer = self.answer_query(message.message)\n",
    "                        except:\n",
    "                            answer = \"Sorry :( I could not understand you. Can you rephrase your question?\"\n",
    "                    # Send a message to the corresponding chat room using the post_messages method of the room object.\n",
    "                    room.post_messages(f\"{answer.encode('utf-8')}\")\n",
    "                    # Mark the message as processed, so it will be filtered out when retrieving new messages.\n",
    "                    room.mark_as_processed(message)\n",
    "\n",
    "                # Retrieve reactions from this chat room.\n",
    "                # If only_new=True, it filters out reactions that have already been marked as processed.\n",
    "                for reaction in room.get_reactions(only_new=True):\n",
    "                    print(\n",
    "                        f\"\\t- Chatroom {room.room_id} \"\n",
    "                        f\"- new reaction #{reaction.message_ordinal}: '{reaction.type}' \"\n",
    "                        f\"- {self.get_time()}\")\n",
    "\n",
    "                    # Implement your agent here #\n",
    "\n",
    "                    room.post_messages(f\"Received your reaction: '{reaction.type}' \")\n",
    "                    room.mark_as_processed(reaction)\n",
    "\n",
    "            time.sleep(listen_freq)\n",
    "\n",
    "    @staticmethod\n",
    "    def get_time():\n",
    "        return time.strftime(\"%H:%M:%S, %d-%m-%Y\", time.localtime())\n"
   ]
  },
  {
   "cell_type": "code",
   "execution_count": 18,
   "metadata": {},
   "outputs": [
    {
     "name": "stdout",
     "output_type": "stream",
     "text": [
      "Login successful. Session token: JnIBd2LpGPR8H9r8CAIIHVee_tuVREC2\n",
      "\t- Chatroom 6e0b8480-2a27-4cd7-a957-bd2e6ecb092f - new message #1: 'Can you recommend me a comedy movie' - 10:12:47, 27-11-2024\n",
      "\t- Chatroom 6e0b8480-2a27-4cd7-a957-bd2e6ecb092f - new message #3: 'How about a drama movie' - 10:13:26, 27-11-2024\n",
      "\t- Chatroom 6e0b8480-2a27-4cd7-a957-bd2e6ecb092f - new message #5: 'Can you recommend me something like The Lion King\n",
      "' - 10:13:49, 27-11-2024\n",
      "\t- Chatroom a49b064a-8020-4e26-9a33-6ba420cc3405 - new message #1: 'recommend me a drama movie' - 10:20:09, 27-11-2024\n",
      "\t- Chatroom b0b152bc-6362-4a0f-8905-30fb10aafbf3 - new message #1: 'Herzig please use Grüezi' - 10:21:00, 27-11-2024\n",
      "\t- Chatroom b0b152bc-6362-4a0f-8905-30fb10aafbf3 - new message #3: 'Given that I like The Lion King, Pocahontas, and The Beauty and the Beast, can you recommend some movies? ' - 10:21:34, 27-11-2024\n",
      "\t- Chatroom ff7a904d-98b6-4bce-835f-3bfbddbbce16 - new message #1: 'reference-2\n",
      "' - 10:22:05, 27-11-2024\n",
      "\t- Chatroom 989d763d-51b2-4157-93c5-9d05453fb251 - new message #1: 'Recommend movies similar to Hamlet and Othello. \n",
      "\n",
      "' - 10:22:11, 27-11-2024\n",
      "\t- Chatroom a49b064a-8020-4e26-9a33-6ba420cc3405 - new message #3: 'I want to watch similar movies to Inception.' - 10:24:58, 27-11-2024\n",
      "\t- Chatroom a49b064a-8020-4e26-9a33-6ba420cc3405 - new message #5: 'Recommend me occupation for my future' - 10:27:23, 27-11-2024\n",
      "\t- Chatroom a49b064a-8020-4e26-9a33-6ba420cc3405 - new message #7: 'You could not help me :(' - 10:27:44, 27-11-2024\n",
      "\t- Chatroom a49b064a-8020-4e26-9a33-6ba420cc3405 - new message #9: 'Hello' - 10:27:55, 27-11-2024\n",
      "\t- Chatroom a49b064a-8020-4e26-9a33-6ba420cc3405 - new message #11: 'Lion' - 10:28:14, 27-11-2024\n",
      "\t- Chatroom 9d35f756-c661-4b0c-a237-502742be2957 - new message #1: 'Given that I like Kung Fu Panda, can you recommend some movies?' - 10:28:27, 27-11-2024\n",
      "\t- Chatroom f0ab0e28-efa4-4407-965a-c3b03215d31c - new message #1: 'Given that I like Kung Fu Panda, can you recommend some movies?' - 10:28:40, 27-11-2024\n",
      "\t- Chatroom 9d35f756-c661-4b0c-a237-502742be2957 - new message #3: 'Recommend movies like Nightmare on Elm Street, Friday the 13th, and Halloween.' - 10:28:52, 27-11-2024\n",
      "\t- Chatroom f0ab0e28-efa4-4407-965a-c3b03215d31c - new message #3: 'Recommend movies like Nightmare on Elm Street, Friday the 13th, and Halloween' - 10:28:57, 27-11-2024\n",
      "\t- Chatroom f5c5ea1d-7963-48cd-97b8-365051357e03 - new message #1: 'Given that I like Kung Fu Panda, can you recommend some movies?' - 10:28:57, 27-11-2024\n",
      "\t- Chatroom f5c5ea1d-7963-48cd-97b8-365051357e03 - new message #3: 'Recommend movies like Nightmare on Elm Street, Friday the 13th, and Halloween.' - 10:29:26, 27-11-2024\n",
      "\t- Chatroom f0ab0e28-efa4-4407-965a-c3b03215d31c - new message #5: 'Given that I like The Lion King, Pocahontas, and The Beauty and the Beast, can you recommend some movies?' - 10:29:28, 27-11-2024\n",
      "\t- Chatroom 9d35f756-c661-4b0c-a237-502742be2957 - new message #5: 'Given that I like The Lion King, Pocahontas, and The Beauty and the Beast, can you recommend some movies?' - 10:29:39, 27-11-2024\n",
      "\t- Chatroom f5c5ea1d-7963-48cd-97b8-365051357e03 - new message #5: 'Given that I like The Lion King, Pocahontas, and The Beauty and the Beast, can you recommend some movies?' - 10:29:43, 27-11-2024\n",
      "\t- Chatroom 9d35f756-c661-4b0c-a237-502742be2957 - new message #7: 'Hello?' - 10:30:27, 27-11-2024\n",
      "\t- Chatroom f0ab0e28-efa4-4407-965a-c3b03215d31c - new message #7: 'Recommend movies similar to Hamlet and Othello.' - 10:30:33, 27-11-2024\n",
      "\t- Chatroom 9d35f756-c661-4b0c-a237-502742be2957 - new message #9: 'Good job' - 10:30:44, 27-11-2024\n",
      "\t- Chatroom f0ab0e28-efa4-4407-965a-c3b03215d31c - new message #9: 'Recommend movies similar to Hamlet and Othello. ' - 10:30:55, 27-11-2024\n",
      "\t- Chatroom f0ab0e28-efa4-4407-965a-c3b03215d31c - new message #11: '\n",
      "Recommend movies similar to Hamlet and Othello. ' - 10:31:34, 27-11-2024\n",
      "\t- Chatroom f5c5ea1d-7963-48cd-97b8-365051357e03 - new message #7: 'recommend some action movies' - 10:32:35, 27-11-2024\n",
      "\t- Chatroom f5c5ea1d-7963-48cd-97b8-365051357e03 - new message #9: 'good' - 10:32:43, 27-11-2024\n",
      "\t- Chatroom f0ab0e28-efa4-4407-965a-c3b03215d31c - new message #13: 'Recommend movies similar to Star Wars: Episode IV - A New Hope' - 10:32:50, 27-11-2024\n",
      "\t- Chatroom f5c5ea1d-7963-48cd-97b8-365051357e03 - new message #11: 'why u keep giving answer when there is no request' - 10:33:10, 27-11-2024\n",
      "\t- Chatroom 21bb948d-b0d1-4deb-b41f-c9e27ab8a44a - new message #1: 'you don't have to give answers when not requested :)' - 10:39:43, 27-11-2024\n",
      "\t- Chatroom 21bb948d-b0d1-4deb-b41f-c9e27ab8a44a - new message #3: 'Recommend movies similar to Star Wars: Episode IV - A New Hope.' - 10:40:35, 27-11-2024\n",
      "\t- Chatroom 5a0be209-b4be-4eb4-a426-0eac04941618 - new message #1: 'Recommend movies similar to Hamlet and Othello.' - 10:42:06, 27-11-2024\n",
      "\t- Chatroom 72aaa344-eda5-4fee-85ed-ad5193bc5296 - new message #1: 'Recommend movies similar to Hamlet and Othello.' - 10:42:14, 27-11-2024\n",
      "\t- Chatroom 21bb948d-b0d1-4deb-b41f-c9e27ab8a44a - new message #5: 'Recommend some movies given that I like Ryan Gosling?' - 10:42:39, 27-11-2024\n",
      "\t- Chatroom 5a0be209-b4be-4eb4-a426-0eac04941618 - new message #3: 'Recommend some movies given that I like Ryan Gosling?' - 10:43:20, 27-11-2024\n",
      "\t- Chatroom 72aaa344-eda5-4fee-85ed-ad5193bc5296 - new message #3: 'Recommend some movies given that I like Ryan Gosling?' - 10:43:51, 27-11-2024\n",
      "\t- Chatroom 5a0be209-b4be-4eb4-a426-0eac04941618 - new message #5: 'Recommend movies like Forest Gump and The Lord of the Rings' - 10:44:24, 27-11-2024\n",
      "\t- Chatroom 21bb948d-b0d1-4deb-b41f-c9e27ab8a44a - new message #7: 'Recommend movies like Forest Gump and The Lord of the Rings: The Fellowship of the Ring.' - 10:44:26, 27-11-2024\n",
      "\t- Chatroom 72aaa344-eda5-4fee-85ed-ad5193bc5296 - new message #5: 'Recommend movies like Forest Gump and The Lord of the Rings: The Fellowship of the Ring.' - 10:44:32, 27-11-2024\n",
      "\t- Chatroom 21bb948d-b0d1-4deb-b41f-c9e27ab8a44a - new message #9: 'Recommend me some romance movies.' - 10:45:24, 27-11-2024\n",
      "\t- Chatroom 72aaa344-eda5-4fee-85ed-ad5193bc5296 - new message #7: 'Given that I like The Lion King, Green Street 2 Stand Your Ground, Pochontas, and The Beauty and the Beast, can you recommend some movies' - 10:45:33, 27-11-2024\n",
      "\t- Chatroom 5a0be209-b4be-4eb4-a426-0eac04941618 - new message #7: 'Are there movies similar to The Dark Knight, Logan, or Joker that you can recommend?\n",
      "' - 10:45:48, 27-11-2024\n",
      "\t- Chatroom 5a0be209-b4be-4eb4-a426-0eac04941618 - new message #9: 'Can you recommend romantic movies like The Notebook, Titanic, and Pride & Prejudice?\n",
      "' - 10:45:58, 27-11-2024\n",
      "\t- Chatroom 72aaa344-eda5-4fee-85ed-ad5193bc5296 - new message #9: 'recommend me some movies I can watch this evening?' - 10:46:40, 27-11-2024\n",
      "\t- Chatroom 72aaa344-eda5-4fee-85ed-ad5193bc5296 - new message #11: 'who is the director of A, and It?' - 10:47:18, 27-11-2024\n",
      "\t- Chatroom 72aaa344-eda5-4fee-85ed-ad5193bc5296 - new message #13: 'hi how are you?' - 10:48:20, 27-11-2024\n",
      "\t- Chatroom 72aaa344-eda5-4fee-85ed-ad5193bc5296 - new message #15: 'what day is it today?' - 10:48:38, 27-11-2024\n",
      "\t- Chatroom dcc822d0-8523-422d-aa56-2aeb3294aae8 - new message #1: 'Recommend me movies Ryan gosling played in' - 10:51:07, 27-11-2024\n",
      "\t- Chatroom 07049fd5-abd5-4af3-9e5c-dbda73dbb0bb - new message #1: 'Given that I like A.I. Artificial Intelligence, can you recommend some movies?' - 10:54:27, 27-11-2024\n",
      "\t- Chatroom 7f9e8a0a-b922-4906-b3a6-b027b152c865 - new message #1: 'Given that I like A.I. Artificial Intelligence, can you recommend some movies?' - 10:54:49, 27-11-2024\n",
      "\t- Chatroom 7f9e8a0a-b922-4906-b3a6-b027b152c865 - new message #3: ' Recommend movies like The Godfather.' - 10:55:23, 27-11-2024\n",
      "\t- Chatroom 07049fd5-abd5-4af3-9e5c-dbda73dbb0bb - new message #3: 'Recommend movies like The Godfather.' - 10:56:06, 27-11-2024\n",
      "\t- Chatroom 7f9e8a0a-b922-4906-b3a6-b027b152c865 - new message #5: 'I really like The Lion King and Pocahontas, can you recommend some similar movies? ' - 10:56:16, 27-11-2024\n",
      "\t- Chatroom 07049fd5-abd5-4af3-9e5c-dbda73dbb0bb - new message #5: 'I really like The Lion King and Pocahontas, can you recommend some similar movies?' - 10:56:36, 27-11-2024\n",
      "\t- Chatroom 7f9e8a0a-b922-4906-b3a6-b027b152c865 - new message #7: 'Recommend me movies starring Leonardo DiCaprio.' - 10:56:49, 27-11-2024\n",
      "\t- Chatroom 7f9e8a0a-b922-4906-b3a6-b027b152c865 - new message #9: 'Recommend me a thriller released in 1990.' - 10:57:37, 27-11-2024\n",
      "\t- Chatroom 7f9e8a0a-b922-4906-b3a6-b027b152c865 - new reaction #8: 'THUMBS_DOWN' - 10:57:40, 27-11-2024\n",
      "\t- Chatroom 07049fd5-abd5-4af3-9e5c-dbda73dbb0bb - new message #7: 'recommend movies like lord of the rings' - 10:58:40, 27-11-2024\n",
      "\t- Chatroom 07049fd5-abd5-4af3-9e5c-dbda73dbb0bb - new message #9: 'Recommend movies like Nightmare on Elm Street, Friday the 13th, and Halloween.' - 10:59:18, 27-11-2024\n",
      "\t- Chatroom 07049fd5-abd5-4af3-9e5c-dbda73dbb0bb - new message #11: 'Recommend movies similar to the Lion King.' - 10:59:53, 27-11-2024\n",
      "\t- Chatroom dcc822d0-8523-422d-aa56-2aeb3294aae8 - new message #3: 'Given that I like A.I. Artificial Intelligence, can you recommend some movies?' - 10:59:59, 27-11-2024\n"
     ]
    },
    {
     "ename": "KeyboardInterrupt",
     "evalue": "",
     "output_type": "error",
     "traceback": [
      "\u001b[0;31m---------------------------------------------------------------------------\u001b[0m",
      "\u001b[0;31mKeyboardInterrupt\u001b[0m                         Traceback (most recent call last)",
      "Cell \u001b[0;32mIn[18], line 2\u001b[0m\n\u001b[1;32m      1\u001b[0m demo_bot \u001b[38;5;241m=\u001b[39m Agent(config(\u001b[38;5;124m\"\u001b[39m\u001b[38;5;124mUZH_BOT_USERNAME\u001b[39m\u001b[38;5;124m\"\u001b[39m), config(\u001b[38;5;124m\"\u001b[39m\u001b[38;5;124mUZH_BOT_PASSWORD\u001b[39m\u001b[38;5;124m\"\u001b[39m))\n\u001b[0;32m----> 2\u001b[0m \u001b[43mdemo_bot\u001b[49m\u001b[38;5;241;43m.\u001b[39;49m\u001b[43mlisten\u001b[49m\u001b[43m(\u001b[49m\u001b[43m)\u001b[49m\n",
      "Cell \u001b[0;32mIn[17], line 75\u001b[0m, in \u001b[0;36mAgent.listen\u001b[0;34m(self)\u001b[0m\n\u001b[1;32m     72\u001b[0m         room\u001b[38;5;241m.\u001b[39mpost_messages(\u001b[38;5;124mf\u001b[39m\u001b[38;5;124m\"\u001b[39m\u001b[38;5;124mReceived your reaction: \u001b[39m\u001b[38;5;124m'\u001b[39m\u001b[38;5;132;01m{\u001b[39;00mreaction\u001b[38;5;241m.\u001b[39mtype\u001b[38;5;132;01m}\u001b[39;00m\u001b[38;5;124m'\u001b[39m\u001b[38;5;124m \u001b[39m\u001b[38;5;124m\"\u001b[39m)\n\u001b[1;32m     73\u001b[0m         room\u001b[38;5;241m.\u001b[39mmark_as_processed(reaction)\n\u001b[0;32m---> 75\u001b[0m \u001b[43mtime\u001b[49m\u001b[38;5;241;43m.\u001b[39;49m\u001b[43msleep\u001b[49m\u001b[43m(\u001b[49m\u001b[43mlisten_freq\u001b[49m\u001b[43m)\u001b[49m\n",
      "\u001b[0;31mKeyboardInterrupt\u001b[0m: "
     ]
    }
   ],
   "source": [
    "demo_bot = Agent(config(\"UZH_BOT_USERNAME\"), config(\"UZH_BOT_PASSWORD\"))\n",
    "demo_bot.listen()"
   ]
  },
  {
   "cell_type": "code",
   "execution_count": null,
   "metadata": {},
   "outputs": [],
   "source": []
  }
 ],
 "metadata": {
  "colab": {
   "authorship_tag": "ABX9TyNC2BzrVbq+mNDgGNziLFpm",
   "collapsed_sections": [],
   "name": "dataset_intro.ipynb",
   "provenance": []
  },
  "kernelspec": {
   "display_name": "env",
   "language": "python",
   "name": "python3"
  },
  "language_info": {
   "codemirror_mode": {
    "name": "ipython",
    "version": 3
   },
   "file_extension": ".py",
   "mimetype": "text/x-python",
   "name": "python",
   "nbconvert_exporter": "python",
   "pygments_lexer": "ipython3",
   "version": "3.9.12"
  }
 },
 "nbformat": 4,
 "nbformat_minor": 4
}

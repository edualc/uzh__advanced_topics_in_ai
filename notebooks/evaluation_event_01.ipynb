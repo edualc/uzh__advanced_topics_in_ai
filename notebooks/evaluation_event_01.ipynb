{
 "cells": [
  {
   "cell_type": "markdown",
   "metadata": {
    "id": "jJjnhOLDmjH2"
   },
   "source": [
    "# Dataset Introduction - the Project Knowledge Graph\n",
    "\n",
    "Ruijie Wang, Pascal Severin Andermatt, Rosni Vasu | 25-09-2023  \n",
    "Matthias Baumgartner, Luca Rossetto, Cristina Sarasua | Dataset Construction"
   ]
  },
  {
   "cell_type": "markdown",
   "metadata": {
    "id": "SNQW7-KG3igF"
   },
   "source": [
    "## 1. Overview"
   ]
  },
  {
   "cell_type": "markdown",
   "metadata": {
    "id": "Ba8LaniAmqNd"
   },
   "source": [
    "* The knowledge graph is\n",
    "    * mainly about **movies**,\n",
    "    * derived from **[Wikidata](https://www.wikidata.org/wiki/Wikidata:Main_Page)**,\n",
    "    * **directed** and **connected**.\n",
    "\n",
    "\n",
    "* Entities (movies, people, etc.)\n",
    "    * common properties \n",
    "        * **labels** (rdfs:label)\n",
    "        * **types** (wd:P31)\n",
    "        * **descriptions** (schema:description)\n",
    "    * namespace:\n",
    "        * **wikidata_entity**(http://www.wikidata.org/entity/);\n",
    "    \n",
    "    \n",
    "* Predicates\n",
    "    * common properties\n",
    "        * **labels** (rdfs:label)\n",
    "        * **descriptions** (schema:description)\n",
    "    * namespaces: \n",
    "        * **wikidata_property**(http://www.wikidata.org/prop/direct/)\n",
    "        * **schema.org**(http://schema.org/)\n",
    "        * **ddis.ch**(http://ddis.ch/atai/)\n",
    "        * **rdfs**(http://www.w3.org/2000/01/rdf-schema#)\n",
    "    \n",
    "    \n",
    "* Literal types in the graph (for some entities):\n",
    "    * entity/predicate labels\n",
    "    * descriptions\n",
    "    * [IMDb](https://www.imdb.com/) ratings\n",
    "    * box office values\n",
    "    * publication dates\n",
    "    * WikiCommons image URLs\n",
    "    * user-defined tags\n",
    "    \n",
    "    \n",
    "* Linked external datasets (for some entities):\n",
    "    * movie plot descriptions from [MPST](https://www.kaggle.com/cryptexcode/mpst-movie-plot-synopses-with-tags) and [OMDb](http://www.omdbapi.com/),\n",
    "    * textual user reviews from [LMRD](https://ai.stanford.edu/~amaas/data/sentiment/),\n",
    "    * images of movies (e.g., posters) and people (e.g., still images) from [MovieNet](http://movienet.site/);\n",
    "    \n",
    "    \n",
    "**The dataset is published at https://files.ifi.uzh.ch/ddis/teaching/2023/ATAI/dataset/**"
   ]
  },
  {
   "cell_type": "markdown",
   "metadata": {
    "id": "53nBQpYb37bw"
   },
   "source": [
    "## 2. Data Analysis\n"
   ]
  },
  {
   "cell_type": "markdown",
   "metadata": {
    "id": "nBCtW2krgAxV"
   },
   "source": [
    "### 2.1 Load the data"
   ]
  },
  {
   "cell_type": "code",
   "execution_count": 1,
   "metadata": {},
   "outputs": [
    {
     "name": "stdout",
     "output_type": "stream",
     "text": [
      "Requirement already satisfied: rdflib in /Library/Frameworks/Python.framework/Versions/3.12/lib/python3.12/site-packages (7.0.0)\n",
      "Requirement already satisfied: isodate<0.7.0,>=0.6.0 in /Library/Frameworks/Python.framework/Versions/3.12/lib/python3.12/site-packages (from rdflib) (0.6.1)\n",
      "Requirement already satisfied: pyparsing<4,>=2.1.0 in /Library/Frameworks/Python.framework/Versions/3.12/lib/python3.12/site-packages (from rdflib) (3.1.4)\n",
      "Requirement already satisfied: six in /Users/melihserin/Library/Python/3.12/lib/python/site-packages (from isodate<0.7.0,>=0.6.0->rdflib) (1.16.0)\n",
      "Requirement already satisfied: networkx in /Library/Frameworks/Python.framework/Versions/3.12/lib/python3.12/site-packages (3.3)\n",
      "Requirement already satisfied: pandas in /Library/Frameworks/Python.framework/Versions/3.12/lib/python3.12/site-packages (2.2.2)\n",
      "Requirement already satisfied: numpy>=1.26.0 in /Library/Frameworks/Python.framework/Versions/3.12/lib/python3.12/site-packages (from pandas) (2.1.1)\n",
      "Requirement already satisfied: python-dateutil>=2.8.2 in /Users/melihserin/Library/Python/3.12/lib/python/site-packages (from pandas) (2.9.0.post0)\n",
      "Requirement already satisfied: pytz>=2020.1 in /Library/Frameworks/Python.framework/Versions/3.12/lib/python3.12/site-packages (from pandas) (2024.2)\n",
      "Requirement already satisfied: tzdata>=2022.7 in /Library/Frameworks/Python.framework/Versions/3.12/lib/python3.12/site-packages (from pandas) (2024.1)\n",
      "Requirement already satisfied: six>=1.5 in /Users/melihserin/Library/Python/3.12/lib/python/site-packages (from python-dateutil>=2.8.2->pandas) (1.16.0)\n",
      "Requirement already satisfied: plotly in /Library/Frameworks/Python.framework/Versions/3.12/lib/python3.12/site-packages (5.24.1)\n",
      "Requirement already satisfied: tenacity>=6.2.0 in /Library/Frameworks/Python.framework/Versions/3.12/lib/python3.12/site-packages (from plotly) (9.0.0)\n",
      "Requirement already satisfied: packaging in /Users/melihserin/Library/Python/3.12/lib/python/site-packages (from plotly) (24.1)\n",
      "Requirement already satisfied: kaleido in /Library/Frameworks/Python.framework/Versions/3.12/lib/python3.12/site-packages (0.2.1)\n"
     ]
    }
   ],
   "source": [
    "!python3 -m pip install rdflib\n",
    "!python3 -m pip install networkx\n",
    "!python3 -m pip install pandas\n",
    "!python3 -m pip install plotly\n",
    "!python3 -m pip install -U kaleido"
   ]
  },
  {
   "cell_type": "code",
   "execution_count": 1,
   "metadata": {
    "colab": {
     "base_uri": "https://localhost:8080/",
     "height": 255
    },
    "executionInfo": {
     "elapsed": 12393,
     "status": "ok",
     "timestamp": 1632683772579,
     "user": {
      "displayName": "Go Friday",
      "photoUrl": "https://lh3.googleusercontent.com/a/default-user=s64",
      "userId": "04257507274310331112"
     },
     "user_tz": -120
    },
    "id": "qsEynPSV4FKf",
    "outputId": "b0a602e6-abbd-497a-ad9d-abbac38a65ab"
   },
   "outputs": [
    {
     "data": {
      "text/html": [
       "        <script type=\"text/javascript\">\n",
       "        window.PlotlyConfig = {MathJaxConfig: 'local'};\n",
       "        if (window.MathJax && window.MathJax.Hub && window.MathJax.Hub.Config) {window.MathJax.Hub.Config({SVG: {font: \"STIX-Web\"}});}\n",
       "        if (typeof require !== 'undefined') {\n",
       "        require.undef(\"plotly\");\n",
       "        requirejs.config({\n",
       "            paths: {\n",
       "                'plotly': ['https://cdn.plot.ly/plotly-2.35.2.min']\n",
       "            }\n",
       "        });\n",
       "        require(['plotly'], function(Plotly) {\n",
       "            window._Plotly = Plotly;\n",
       "        });\n",
       "        }\n",
       "        </script>\n",
       "        "
      ]
     },
     "metadata": {},
     "output_type": "display_data"
    }
   ],
   "source": [
    "from rdflib.namespace import Namespace, RDF, RDFS, XSD\n",
    "from rdflib.term import URIRef, Literal\n",
    "import csv\n",
    "import json\n",
    "import networkx as nx\n",
    "import pandas as pd\n",
    "import rdflib\n",
    "from collections import defaultdict, Counter\n",
    "import locale\n",
    "_ = locale.setlocale(locale.LC_ALL, '')\n",
    "from _plotly_future_ import v4_subplots\n",
    "from plotly.offline import download_plotlyjs, init_notebook_mode, plot, iplot\n",
    "import plotly.graph_objs as go\n",
    "init_notebook_mode(connected=True)\n",
    "import plotly.io as pio\n",
    "pio.renderers.default = 'jupyterlab+svg'"
   ]
  },
  {
   "cell_type": "code",
   "execution_count": 2,
   "metadata": {
    "colab": {
     "base_uri": "https://localhost:8080/"
    },
    "executionInfo": {
     "elapsed": 139148,
     "status": "ok",
     "timestamp": 1632681991550,
     "user": {
      "displayName": "Go Friday",
      "photoUrl": "https://lh3.googleusercontent.com/a/default-user=s64",
      "userId": "04257507274310331112"
     },
     "user_tz": -120
    },
    "id": "lJqbjO9D4TcN",
    "outputId": "49fe0321-0ef5-4324-d56a-8aba54913547"
   },
   "outputs": [
    {
     "data": {
      "text/plain": [
       "<Graph identifier=N4fb4644a03684f9ea2c2b1ac16bf898f (<class 'rdflib.graph.Graph'>)>"
      ]
     },
     "execution_count": 2,
     "metadata": {},
     "output_type": "execute_result"
    }
   ],
   "source": [
    "graph = rdflib.Graph()\n",
    "graph.parse('/Users/melihserin/Desktop/ATAI/dataset/14_graph.nt', format='turtle') # change the path"
   ]
  },
  {
   "cell_type": "markdown",
   "metadata": {
    "id": "BBNRtXqbb0GN"
   },
   "source": [
    "### 2.2 Graph Statistics"
   ]
  },
  {
   "cell_type": "code",
   "execution_count": 3,
   "metadata": {
    "executionInfo": {
     "elapsed": 311,
     "status": "ok",
     "timestamp": 1632682133729,
     "user": {
      "displayName": "Go Friday",
      "photoUrl": "https://lh3.googleusercontent.com/a/default-user=s64",
      "userId": "04257507274310331112"
     },
     "user_tz": -120
    },
    "id": "7KQagm9qcEFN"
   },
   "outputs": [],
   "source": [
    "# prefixes used in the graph\n",
    "WD = Namespace('http://www.wikidata.org/entity/')\n",
    "WDT = Namespace('http://www.wikidata.org/prop/direct/')\n",
    "SCHEMA = Namespace('http://schema.org/')\n",
    "DDIS = Namespace('http://ddis.ch/atai/')"
   ]
  },
  {
   "cell_type": "code",
   "execution_count": 4,
   "metadata": {
    "colab": {
     "base_uri": "https://localhost:8080/",
     "height": 359
    },
    "executionInfo": {
     "elapsed": 37086,
     "status": "ok",
     "timestamp": 1632682237348,
     "user": {
      "displayName": "Go Friday",
      "photoUrl": "https://lh3.googleusercontent.com/a/default-user=s64",
      "userId": "04257507274310331112"
     },
     "user_tz": -120
    },
    "id": "dF0ouXGRZiob",
    "outputId": "08eae839-fd9f-4e2f-c3c2-16742a84c7a7"
   },
   "outputs": [
    {
     "data": {
      "text/html": [
       "<div>\n",
       "<style scoped>\n",
       "    .dataframe tbody tr th:only-of-type {\n",
       "        vertical-align: middle;\n",
       "    }\n",
       "\n",
       "    .dataframe tbody tr th {\n",
       "        vertical-align: top;\n",
       "    }\n",
       "\n",
       "    .dataframe thead th {\n",
       "        text-align: right;\n",
       "    }\n",
       "</style>\n",
       "<table border=\"1\" class=\"dataframe\">\n",
       "  <thead>\n",
       "    <tr style=\"text-align: right;\">\n",
       "      <th></th>\n",
       "      <th>0</th>\n",
       "      <th>1</th>\n",
       "    </tr>\n",
       "  </thead>\n",
       "  <tbody>\n",
       "    <tr>\n",
       "      <th>0</th>\n",
       "      <td>number of entities</td>\n",
       "      <td>159154</td>\n",
       "    </tr>\n",
       "    <tr>\n",
       "      <th>1</th>\n",
       "      <td>number of literals</td>\n",
       "      <td>411590</td>\n",
       "    </tr>\n",
       "    <tr>\n",
       "      <th>2</th>\n",
       "      <td>number of predicates</td>\n",
       "      <td>255</td>\n",
       "    </tr>\n",
       "    <tr>\n",
       "      <th>3</th>\n",
       "      <td>number of triples</td>\n",
       "      <td>2056777</td>\n",
       "    </tr>\n",
       "    <tr>\n",
       "      <th>4</th>\n",
       "      <td>number of ent-ent triples</td>\n",
       "      <td>1498899</td>\n",
       "    </tr>\n",
       "    <tr>\n",
       "      <th>5</th>\n",
       "      <td>number of ent-lit triples</td>\n",
       "      <td>557878</td>\n",
       "    </tr>\n",
       "    <tr>\n",
       "      <th>6</th>\n",
       "      <td>number of entities w/o label</td>\n",
       "      <td>1095</td>\n",
       "    </tr>\n",
       "    <tr>\n",
       "      <th>7</th>\n",
       "      <td>number of predicates w/o label</td>\n",
       "      <td>2</td>\n",
       "    </tr>\n",
       "    <tr>\n",
       "      <th>8</th>\n",
       "      <td>number of entities w/o type</td>\n",
       "      <td>5761</td>\n",
       "    </tr>\n",
       "    <tr>\n",
       "      <th>9</th>\n",
       "      <td>number of instances w/o type</td>\n",
       "      <td>344</td>\n",
       "    </tr>\n",
       "  </tbody>\n",
       "</table>\n",
       "</div>"
      ],
      "text/plain": [
       "                                0        1\n",
       "0              number of entities   159154\n",
       "1              number of literals   411590\n",
       "2            number of predicates      255\n",
       "3               number of triples  2056777\n",
       "4       number of ent-ent triples  1498899\n",
       "5       number of ent-lit triples   557878\n",
       "6    number of entities w/o label     1095\n",
       "7  number of predicates w/o label        2\n",
       "8     number of entities w/o type     5761\n",
       "9    number of instances w/o type      344"
      ]
     },
     "execution_count": 4,
     "metadata": {},
     "output_type": "execute_result"
    }
   ],
   "source": [
    "entities = set(graph.subjects()) | {s for s in graph.objects() if isinstance(s, URIRef)}\n",
    "predicates = set(graph.predicates())\n",
    "literals = {s for s in graph.objects() if isinstance(s, Literal)}\n",
    "with_type = set(graph.subjects(WDT['P31'], None))\n",
    "with_super = set(graph.subjects(WDT['P279'], None))\n",
    "types = set(graph.objects(None, WDT['P31']))\n",
    "supers = set(graph.objects(None, WDT['P279']))\n",
    "with_label = set(graph.subjects(RDFS.label, None))\n",
    "\n",
    "n_ents = len(entities)\n",
    "n_rels = len(predicates)\n",
    "n_lits = len(literals)\n",
    "t_tot = len(graph)\n",
    "t_ent = len([1 for s,p,o in graph.triples((None, None, None)) if isinstance(o, URIRef)])\n",
    "t_lit = t_tot - t_ent\n",
    "n_notype = len(entities - with_type - with_super)\n",
    "n_notype_flt = len(entities - with_type - with_super - types - supers)\n",
    "\n",
    "pd.DataFrame([\n",
    "    ('number of entities', f'{n_ents:n}'),\n",
    "    ('number of literals', f'{n_lits:n}'),\n",
    "    ('number of predicates', f'{n_rels:n}'),\n",
    "    ('number of triples', f'{t_tot:n}'),\n",
    "    ('number of ent-ent triples', f'{t_ent:n}'),\n",
    "    ('number of ent-lit triples', f'{t_lit:n}'),\n",
    "    ('number of entities w/o label', f'{len(entities - with_label):n}'),\n",
    "    ('number of predicates w/o label', f'{len(predicates - with_label):n}'),\n",
    "    ('number of entities w/o type', f'{n_notype:n}'),\n",
    "    ('number of instances w/o type', f'{n_notype_flt:n}'),\n",
    "    ])"
   ]
  },
  {
   "cell_type": "code",
   "execution_count": 5,
   "metadata": {
    "executionInfo": {
     "elapsed": 202,
     "status": "ok",
     "timestamp": 1632684321965,
     "user": {
      "displayName": "Go Friday",
      "photoUrl": "https://lh3.googleusercontent.com/a/default-user=s64",
      "userId": "04257507274310331112"
     },
     "user_tz": -120
    },
    "id": "1E8tkGhIkZ93"
   },
   "outputs": [],
   "source": [
    "roots = {\n",
    "    WD['Q8242']:        'literature',\n",
    "    WD['Q5']:           'human',\n",
    "    WD['Q483394']:      'genre',\n",
    "    WD['Q95074']:       'character',\n",
    "    WD['Q11424']:       'film',\n",
    "    WD['Q15416']:       'tv',\n",
    "    WD['Q618779']:      'award',\n",
    "    WD['Q27096213']:    'geographic',\n",
    "    WD['Q43229']:       'organisation',\n",
    "    WD['Q34770']:       'language',\n",
    "    WD['Q7725310']:     'series',\n",
    "    WD['Q47461344']:    'written work',\n",
    "}"
   ]
  },
  {
   "cell_type": "markdown",
   "metadata": {
    "id": "L9xzeSuXk5eK"
   },
   "source": [
    "## 3. SPARQL query examples"
   ]
  },
  {
   "cell_type": "code",
   "execution_count": 6,
   "metadata": {
    "colab": {
     "base_uri": "https://localhost:8080/"
    },
    "executionInfo": {
     "elapsed": 994,
     "status": "ok",
     "timestamp": 1632684490577,
     "user": {
      "displayName": "Go Friday",
      "photoUrl": "https://lh3.googleusercontent.com/a/default-user=s64",
      "userId": "04257507274310331112"
     },
     "user_tz": -120
    },
    "id": "SuzfaDP6k9hH",
    "outputId": "272071d0-f72c-490a-8483-553217ffa3c1"
   },
   "outputs": [
    {
     "data": {
      "text/plain": [
       "['Forrest Gump',\n",
       " 'The Lord of the Rings: The Fellowship of the Ring',\n",
       " 'Heart of a Dog',\n",
       " 'Kannathil Muthamittal',\n",
       " 'Once Upon a Time in America',\n",
       " 'Oldboy',\n",
       " 'The Great Dictator',\n",
       " 'Apocalypse Now',\n",
       " 'The Shining',\n",
       " 'The Cranes Are Flying',\n",
       " 'Shwaas',\n",
       " 'Khosla Ka Ghosla',\n",
       " 'Inglourious Basterds',\n",
       " 'Good Will Hunting',\n",
       " 'Full Metal Jacket',\n",
       " 'The Ascent',\n",
       " 'War and Peace',\n",
       " '2001: A Space Odyssey',\n",
       " 'Scarface',\n",
       " 'Star Wars: Episode VI – Return of the Jedi']"
      ]
     },
     "execution_count": 6,
     "metadata": {},
     "output_type": "execute_result"
    }
   ],
   "source": [
    "# top user-rated movies\n",
    "[str(s) for s, in graph.query('''\n",
    "    PREFIX ddis: <http://ddis.ch/atai/> \n",
    "    PREFIX wd: <http://www.wikidata.org/entity/> \n",
    "    PREFIX wdt: <http://www.wikidata.org/prop/direct/> \n",
    "    PREFIX schema: <http://schema.org/> \n",
    "    \n",
    "    SELECT ?lbl WHERE {\n",
    "        SELECT ?movie ?lbl ?rating WHERE {\n",
    "            ?movie wdt:P31 wd:Q11424 .\n",
    "            ?movie ddis:rating ?rating .\n",
    "            ?movie rdfs:label ?lbl .\n",
    "        }\n",
    "        ORDER BY DESC(?rating) \n",
    "        LIMIT 20\n",
    "    }\n",
    "    ''')]"
   ]
  },
  {
   "cell_type": "code",
   "execution_count": 7,
   "metadata": {
    "colab": {
     "base_uri": "https://localhost:8080/"
    },
    "executionInfo": {
     "elapsed": 995,
     "status": "ok",
     "timestamp": 1632684554977,
     "user": {
      "displayName": "Go Friday",
      "photoUrl": "https://lh3.googleusercontent.com/a/default-user=s64",
      "userId": "04257507274310331112"
     },
     "user_tz": -120
    },
    "id": "ECo050zYk_5A",
    "outputId": "6543c404-1ee4-42ae-810e-e59ba3c587aa"
   },
   "outputs": [
    {
     "data": {
      "text/plain": [
       "['Vampire Assassin',\n",
       " 'Vampires vs. Zombies',\n",
       " 'Aag',\n",
       " 'Joystick Nation – Generation Hip Hop',\n",
       " 'Going Overboard',\n",
       " \"Alex l'ariete\",\n",
       " 'House of the Dead',\n",
       " 'Killers',\n",
       " \"Ghosts Can't Do It\",\n",
       " 'Snakes on a Train']"
      ]
     },
     "execution_count": 7,
     "metadata": {},
     "output_type": "execute_result"
    }
   ],
   "source": [
    "# bottom user-rated movies\n",
    "[str(s) for s, in graph.query('''\n",
    "    PREFIX ddis: <http://ddis.ch/atai/> \n",
    "    PREFIX wd: <http://www.wikidata.org/entity/> \n",
    "    PREFIX wdt: <http://www.wikidata.org/prop/direct/> \n",
    "    PREFIX schema: <http://schema.org/> \n",
    "    \n",
    "    SELECT ?lbl WHERE {\n",
    "        SELECT ?movie ?lbl ?rating WHERE {\n",
    "            ?movie wdt:P31 wd:Q11424 .\n",
    "            ?movie ddis:rating ?rating .\n",
    "            ?movie rdfs:label ?lbl .\n",
    "        }\n",
    "        ORDER BY ASC(?rating) \n",
    "        LIMIT 10\n",
    "    }\n",
    "    ''')]"
   ]
  },
  {
   "cell_type": "code",
   "execution_count": 8,
   "metadata": {
    "colab": {
     "base_uri": "https://localhost:8080/"
    },
    "executionInfo": {
     "elapsed": 211,
     "status": "ok",
     "timestamp": 1632684739494,
     "user": {
      "displayName": "Go Friday",
      "photoUrl": "https://lh3.googleusercontent.com/a/default-user=s64",
      "userId": "04257507274310331112"
     },
     "user_tz": -120
    },
    "id": "FvVF-ouIlyxB",
    "outputId": "554b4243-c2d1-4c08-8446-e6ec37beb34a"
   },
   "outputs": [
    {
     "name": "stdout",
     "output_type": "stream",
     "text": [
      "First tuple: (rdflib.term.URIRef('http://www.wikidata.org/entity/Q182692'), rdflib.term.Literal('Francis Ford Coppola', lang='en'), rdflib.term.Literal('8.4', datatype=rdflib.term.URIRef('http://www.w3.org/2001/XMLSchema#decimal')), rdflib.term.Literal('1979-05-10', datatype=rdflib.term.URIRef('http://www.w3.org/2001/XMLSchema#date')))\n",
      "------------\n",
      "http://www.wikidata.org/entity/Q182692\n",
      "Francis Ford Coppola\n",
      "8.4\n",
      "1979-05-10\n"
     ]
    }
   ],
   "source": [
    "# some info about a Apocalypse Now\n",
    "\n",
    "header = '''\n",
    "    PREFIX ddis: <http://ddis.ch/atai/>\n",
    "    PREFIX wd: <http://www.wikidata.org/entity/>\n",
    "    PREFIX wdt: <http://www.wikidata.org/prop/direct/>\n",
    "    PREFIX schema: <http://schema.org/>\n",
    "'''\n",
    "\n",
    "tuple_list = list(graph.query(header + '''\n",
    "    SELECT * WHERE {\n",
    "        ?movie rdfs:label \"Apocalypse Now\"@en .\n",
    "        ?movie wdt:P57/rdfs:label ?director .\n",
    "        OPTIONAL { ?movie ddis:rating ?rating } .\n",
    "        OPTIONAL { ?movie wdt:P577 ?value}\n",
    "    }\n",
    "    '''))\n",
    "\n",
    "first_tuple = tuple_list[0]\n",
    "\n",
    "print(f\"First tuple: {first_tuple}\")\n",
    "print('------------')\n",
    "\n",
    "for elements in first_tuple:\n",
    "    print(elements)"
   ]
  },
  {
   "cell_type": "code",
   "execution_count": 19,
   "metadata": {},
   "outputs": [
    {
     "name": "stdout",
     "output_type": "stream",
     "text": [
      "Jan Dara has no rating 😔\n",
      "Queens of Langkasuka has no rating 😔\n",
      "Three has no rating 😔\n",
      "Moondram Pirai has no rating 😔\n",
      "Buffalo Bill and the Indians, or Sitting Bull's History Lesson has no rating 😔\n",
      "Dr. T & the Women has no rating 😔\n",
      "McCabe & Mrs. Miller has a rating of 7.7 ⭐️\n",
      "Nashville has no rating 😔\n",
      "Fool for Love has a rating of 6.1 ⭐️\n",
      "The Gingerbread Man has a rating of 5.7 ⭐️\n"
     ]
    }
   ],
   "source": [
    "# dealing with optional parameters\n",
    "tuple_list = list(graph.query(header + '''\n",
    "    SELECT ?lbl ?rating WHERE {\n",
    "        ?movie rdfs:label ?lbl .\n",
    "        ?movie wdt:P57/rdfs:label ?director .\n",
    "        OPTIONAL { ?movie ddis:rating ?rating } .\n",
    "        OPTIONAL { ?movie wdt:P577 ?value}\n",
    "    }\n",
    "    LIMIT 10\n",
    "    '''))\n",
    "\n",
    "# unpacking the tuple in the loop\n",
    "for (movie_label, rating) in tuple_list:\n",
    "    if rating:\n",
    "        print(f\"{movie_label} has a rating of {rating} ⭐️\")\n",
    "    else:\n",
    "        print(f\"{movie_label} has no rating 😔\")"
   ]
  },
  {
   "cell_type": "code",
   "execution_count": 20,
   "metadata": {
    "colab": {
     "base_uri": "https://localhost:8080/"
    },
    "executionInfo": {
     "elapsed": 201,
     "status": "ok",
     "timestamp": 1632684764597,
     "user": {
      "displayName": "Go Friday",
      "photoUrl": "https://lh3.googleusercontent.com/a/default-user=s64",
      "userId": "04257507274310331112"
     },
     "user_tz": -120
    },
    "id": "xZMdf1NClTWp",
    "outputId": "ba4054ee-0ba4-4f14-b6b9-3d5a4632348d"
   },
   "outputs": [
    {
     "data": {
      "text/plain": [
       "['Time Bandits',\n",
       " 'Tideland',\n",
       " \"Monty Python's The Meaning of Life\",\n",
       " 'Brazil',\n",
       " 'The Wholly Family',\n",
       " 'The Fisher King',\n",
       " 'The Imaginarium of Doctor Parnassus',\n",
       " 'The Zero Theorem',\n",
       " 'The Adventures of Baron Munchausen',\n",
       " 'Jabberwocky',\n",
       " '12 Monkeys',\n",
       " 'The Man Who Killed Don Quixote',\n",
       " 'The Brothers Grimm',\n",
       " 'Fear and Loathing in Las Vegas',\n",
       " 'Monty Python and the Holy Grail']"
      ]
     },
     "execution_count": 20,
     "metadata": {},
     "output_type": "execute_result"
    }
   ],
   "source": [
    "# all movies directed by Terry Gilliam\n",
    "[str(s) for s,  in graph.query('''\n",
    "    PREFIX ddis: <http://ddis.ch/atai/> \n",
    "    PREFIX wd: <http://www.wikidata.org/entity/> \n",
    "    PREFIX wdt: <http://www.wikidata.org/prop/direct/> \n",
    "    PREFIX schema: <http://schema.org/> \n",
    "    \n",
    "    SELECT ?lbl WHERE {\n",
    "        ?director rdfs:label \"Terry Gilliam\"@en .\n",
    "        ?movie wdt:P57 ?director .\n",
    "        ?movie rdfs:label ?lbl\n",
    "    }\n",
    "    ''')]"
   ]
  },
  {
   "cell_type": "code",
   "execution_count": 21,
   "metadata": {
    "colab": {
     "base_uri": "https://localhost:8080/"
    },
    "executionInfo": {
     "elapsed": 197,
     "status": "ok",
     "timestamp": 1632684790694,
     "user": {
      "displayName": "Go Friday",
      "photoUrl": "https://lh3.googleusercontent.com/a/default-user=s64",
      "userId": "04257507274310331112"
     },
     "user_tz": -120
    },
    "id": "vAdoRLEJlmi7",
    "outputId": "acf0b04f-bb31-4bff-ed4c-8af8c2bd99cb"
   },
   "outputs": [
    {
     "data": {
      "text/plain": [
       "['Only God Forgives', 'Drive', 'Blade Runner 2049']"
      ]
     },
     "execution_count": 21,
     "metadata": {},
     "output_type": "execute_result"
    }
   ],
   "source": [
    "# neo-noir movies featuring Ryan Gosling\n",
    "[str(s) for s, in graph.query('''\n",
    "    PREFIX ddis: <http://ddis.ch/atai/> \n",
    "    PREFIX wd: <http://www.wikidata.org/entity/> \n",
    "    PREFIX wdt: <http://www.wikidata.org/prop/direct/> \n",
    "    PREFIX schema: <http://schema.org/> \n",
    "    \n",
    "    SELECT ?lbl WHERE {\n",
    "        ?genre rdfs:label \"neo-noir\"@en .\n",
    "        ?actor rdfs:label \"Ryan Gosling\"@en .\n",
    "        ?movie wdt:P136 ?genre .\n",
    "        ?movie wdt:P161 ?actor .\n",
    "        ?movie rdfs:label ?lbl .\n",
    "    }\n",
    "    ''')]"
   ]
  },
  {
   "cell_type": "code",
   "execution_count": 22,
   "metadata": {
    "colab": {
     "base_uri": "https://localhost:8080/"
    },
    "executionInfo": {
     "elapsed": 14838,
     "status": "ok",
     "timestamp": 1632684812283,
     "user": {
      "displayName": "Go Friday",
      "photoUrl": "https://lh3.googleusercontent.com/a/default-user=s64",
      "userId": "04257507274310331112"
     },
     "user_tz": -120
    },
    "id": "YxAm5xKWls39",
    "outputId": "a971c1e8-64de-476c-e185-f2d4cdbfc8bb"
   },
   "outputs": [
    {
     "data": {
      "text/plain": [
       "[('Mamma Mia! Here We Go Again', 224),\n",
       " ('Ali', 121),\n",
       " ('Forrest Gump', 118),\n",
       " ('Terror in the Aisles', 110),\n",
       " ('Iron Man 3', 108),\n",
       " ('The Longest Day', 104),\n",
       " ('Avengers: Endgame', 100),\n",
       " ('Captain America: Civil War', 98),\n",
       " ('Around the World in 80 Days', 93),\n",
       " ('Captain America: The First Avenger', 93)]"
      ]
     },
     "execution_count": 22,
     "metadata": {},
     "output_type": "execute_result"
    }
   ],
   "source": [
    "# movies with largest cast member list\n",
    "[(str(s), int(nc)) for s, nc in graph.query('''\n",
    "    PREFIX ddis: <http://ddis.ch/atai/> \n",
    "    PREFIX wd: <http://www.wikidata.org/entity/> \n",
    "    PREFIX wdt: <http://www.wikidata.org/prop/direct/> \n",
    "    PREFIX schema: <http://schema.org/> \n",
    "    \n",
    "    SELECT ?lbl ?nc WHERE {\n",
    "        SELECT ?movie ?lbl (count(?cast) as ?nc) WHERE {\n",
    "            ?movie wdt:P31 wd:Q11424 .\n",
    "            ?movie rdfs:label ?lbl .\n",
    "            ?movie wdt:P161 ?cast .\n",
    "        }\n",
    "        GROUP BY ?movie\n",
    "        ORDER BY DESC(?nc)\n",
    "        LIMIT 10\n",
    "    }\n",
    "    ''')]"
   ]
  },
  {
   "cell_type": "code",
   "execution_count": 23,
   "metadata": {
    "colab": {
     "base_uri": "https://localhost:8080/"
    },
    "executionInfo": {
     "elapsed": 200,
     "status": "ok",
     "timestamp": 1632684816315,
     "user": {
      "displayName": "Go Friday",
      "photoUrl": "https://lh3.googleusercontent.com/a/default-user=s64",
      "userId": "04257507274310331112"
     },
     "user_tz": -120
    },
    "id": "dgFe28XGmOys",
    "outputId": "b171c6fa-ac30-4432-f913-220cf4168ca4"
   },
   "outputs": [
    {
     "data": {
      "text/plain": [
       "['Matt Berry',\n",
       " 'Kaya Scodelario',\n",
       " 'Kevin Spacey',\n",
       " 'Sam Rockwell',\n",
       " 'Benedict Wong',\n",
       " 'Dominique McElligott',\n",
       " 'Robin Chalk']"
      ]
     },
     "execution_count": 23,
     "metadata": {},
     "output_type": "execute_result"
    }
   ],
   "source": [
    "# cast of Moon\n",
    "[str(s) for s, in graph.query('''\n",
    "    PREFIX ddis: <http://ddis.ch/atai/> \n",
    "    PREFIX wd: <http://www.wikidata.org/entity/> \n",
    "    PREFIX wdt: <http://www.wikidata.org/prop/direct/> \n",
    "    PREFIX schema: <http://schema.org/> \n",
    "    \n",
    "    SELECT ?lbl WHERE {\n",
    "        ?movie rdfs:label \"Moon\"@en .\n",
    "        ?movie wdt:P161 ?cast .\n",
    "        ?cast rdfs:label ?lbl .\n",
    "    }\n",
    "    ''')]"
   ]
  },
  {
   "cell_type": "code",
   "execution_count": 24,
   "metadata": {
    "colab": {
     "base_uri": "https://localhost:8080/"
    },
    "executionInfo": {
     "elapsed": 192,
     "status": "ok",
     "timestamp": 1632684826015,
     "user": {
      "displayName": "Go Friday",
      "photoUrl": "https://lh3.googleusercontent.com/a/default-user=s64",
      "userId": "04257507274310331112"
     },
     "user_tz": -120
    },
    "id": "i_wUs16omTWW",
    "outputId": "67928e4a-e8fc-4823-8061-a372b589af14"
   },
   "outputs": [
    {
     "data": {
      "text/plain": [
       "[('2021-07-14', 'Titane'),\n",
       " ('2019-05-21', 'Parasite'),\n",
       " ('2018-05-13', 'Shoplifters'),\n",
       " ('2017-05-20', 'The Square'),\n",
       " ('2016-10-21', 'I, Daniel Blake'),\n",
       " ('2015-10-22', 'Dheepan'),\n",
       " ('2014-05-16', 'Winter Sleep'),\n",
       " ('2013-05-23', 'Blue Is the Warmest Colour'),\n",
       " ('2012-01-01', 'Amour'),\n",
       " ('2011-05-16', 'The Tree of Life')]"
      ]
     },
     "execution_count": 24,
     "metadata": {},
     "output_type": "execute_result"
    }
   ],
   "source": [
    "# winners of Cannes best movie (Palme d'Or)\n",
    "a = [(str(d), str(s)) for s, d in graph.query(header + '''\n",
    "    SELECT ?lbl ?pubdate WHERE {\n",
    "        ?award rdfs:label \"Palme d'Or\"@en .\n",
    "        ?movie wdt:P166 ?award .\n",
    "        ?movie rdfs:label ?lbl .\n",
    "        ?movie wdt:P577 ?pubdate .\n",
    "        FILTER (?pubdate > \"2011-01-01\"^^xsd:date)\n",
    "    }\n",
    "    ORDER BY DESC(?pubdate)\n",
    "    ''')]\n",
    "\n",
    "# this can be also written as (notice the \";\"):\n",
    "b = [(str(d), str(s)) for s, d in graph.query(header + '''\n",
    "    SELECT ?lbl ?pubdate WHERE {\n",
    "      ?award rdfs:label \"Palme d'Or\"@en.\n",
    "      ?movie wdt:P166 ?award; rdfs:label ?lbl; wdt:P577 ?pubdate.\n",
    "      FILTER(?pubdate > \"2011-01-01\"^^xsd:date)\n",
    "    }\n",
    "    ORDER BY DESC (?pubdate)\n",
    "    ''')]\n",
    "\n",
    "assert (a == b)\n",
    "a"
   ]
  },
  {
   "cell_type": "markdown",
   "metadata": {},
   "source": [
    "## 4.Agent Demo"
   ]
  },
  {
   "cell_type": "markdown",
   "metadata": {},
   "source": [
    "### Evaluation 1"
   ]
  },
  {
   "cell_type": "code",
   "execution_count": 9,
   "metadata": {},
   "outputs": [
    {
     "name": "stdout",
     "output_type": "stream",
     "text": [
      "['Forrest Gump']\n"
     ]
    }
   ],
   "source": [
    "qres=graph.query(\"\"\"\n",
    "PREFIX ddis: <http://ddis.ch/atai/>   \n",
    "PREFIX wd: <http://www.wikidata.org/entity/>   \n",
    "PREFIX wdt: <http://www.wikidata.org/prop/direct/>   \n",
    "PREFIX schema: <http://schema.org/>   \n",
    "\n",
    "SELECT ?lbl WHERE {  \n",
    "    ?movie wdt:P31 wd:Q11424 .  \n",
    "    ?movie ddis:rating ?rating .  \n",
    "    ?movie rdfs:label ?lbl .  \n",
    "}  \n",
    "ORDER BY DESC(?rating)   \n",
    "LIMIT 1 \n",
    "    \"\"\"\n",
    ")\n",
    "\n",
    "for row in qres:\n",
    "    answer = row.lbl\n",
    "    print([str(answer)])"
   ]
  },
  {
   "cell_type": "code",
   "execution_count": 10,
   "metadata": {},
   "outputs": [
    {
     "name": "stdout",
     "output_type": "stream",
     "text": [
      "['Vampire Assassin']\n"
     ]
    }
   ],
   "source": [
    "# Which movie has the lowest user rating? \n",
    "\n",
    "qres=graph.query(\n",
    "''' \n",
    "\n",
    "PREFIX ddis: <http://ddis.ch/atai/>   \n",
    "\n",
    "PREFIX wd: <http://www.wikidata.org/entity/>   \n",
    "\n",
    "PREFIX wdt: <http://www.wikidata.org/prop/direct/>   \n",
    "\n",
    "PREFIX schema: <http://schema.org/>   \n",
    "\n",
    "  \n",
    "\n",
    "SELECT ?lbl WHERE {  \n",
    "\n",
    "    ?movie wdt:P31 wd:Q11424 .  \n",
    "\n",
    "    ?movie ddis:rating ?rating .  \n",
    "\n",
    "    ?movie rdfs:label ?lbl .  \n",
    "\n",
    "}  \n",
    "\n",
    "ORDER BY ASC(?rating)   \n",
    "\n",
    "LIMIT 1 \n",
    "\n",
    "    ''' )\n",
    "\n",
    "for row in qres:\n",
    "    answer = row.lbl\n",
    "    print([str(answer)])"
   ]
  },
  {
   "cell_type": "code",
   "execution_count": 11,
   "metadata": {},
   "outputs": [
    {
     "name": "stdout",
     "output_type": "stream",
     "text": [
      "['Francis Ford Coppola']\n"
     ]
    }
   ],
   "source": [
    "# Who directed the movie Apocalypse Now? \n",
    "\n",
    "qres=graph.query(\"\"\"\n",
    "\n",
    " PREFIX ddis: <http://ddis.ch/atai/>   \n",
    "\n",
    "PREFIX wd: <http://www.wikidata.org/entity/>   \n",
    "\n",
    "PREFIX wdt: <http://www.wikidata.org/prop/direct/>   \n",
    "\n",
    "PREFIX schema: <http://schema.org/>   \n",
    "\n",
    "  \n",
    "\n",
    "SELECT ?director ?movie WHERE {  \n",
    "\n",
    "    ?movie rdfs:label \"Apocalypse Now\"@en .  \n",
    "\n",
    "        ?movie wdt:P57 ?directorItem . \n",
    "\n",
    "    ?directorItem rdfs:label ?director . \n",
    "\n",
    "}  \n",
    "\n",
    "LIMIT 1  \n",
    "\"\"\"  )\n",
    "\n",
    "for row in qres:\n",
    "    answer = row.director\n",
    "    print([str(answer)])"
   ]
  },
  {
   "cell_type": "code",
   "execution_count": 57,
   "metadata": {},
   "outputs": [],
   "source": [
    "from speakeasypy import Speakeasy, Chatroom\n",
    "from typing import List\n",
    "import time\n",
    "\n",
    "DEFAULT_HOST_URL = 'https://speakeasy.ifi.uzh.ch'\n",
    "listen_freq = 2\n",
    "\n",
    "\n",
    "class Agent:\n",
    "    def __init__(self, username, password):\n",
    "        self.username = username\n",
    "        # Initialize the Speakeasy Python framework and login.\n",
    "        self.speakeasy = Speakeasy(host=DEFAULT_HOST_URL, username=username, password=password)\n",
    "        self.speakeasy.login()  # This framework will help you log out automatically when the program terminates.\n",
    "\n",
    "    def listen(self):\n",
    "        while True:\n",
    "            # only check active chatrooms (i.e., remaining_time > 0) if active=True.\n",
    "            rooms: List[Chatroom] = self.speakeasy.get_rooms(active=True)\n",
    "            for room in rooms:\n",
    "                if not room.initiated:\n",
    "                    # send a welcome message if room is not initiated\n",
    "                    room.post_messages(f'Hello! This is a welcome message from {room.my_alias}.')\n",
    "                    room.initiated = True\n",
    "                # Retrieve messages from this chat room.\n",
    "                # If only_partner=True, it filters out messages sent by the current bot.\n",
    "                # If only_new=True, it filters out messages that have already been marked as processed.\n",
    "                for message in room.get_messages(only_partner=True, only_new=True):\n",
    "                    print(\n",
    "                        f\"\\t- Chatroom {room.room_id} \"\n",
    "                        f\"- new message #{message.ordinal}: '{message.message}' \"\n",
    "                        f\"- {self.get_time()}\")\n",
    "\n",
    "                    # Implement your agent here #\n",
    "                    if message[message.find(\"SELECT\")+8:message.find(\"WHERE\")-1].find(\" \") == -1:\n",
    "                        row_names = [message[message.find(\"SELECT\")+8:message.find(\"WHERE\")-1]]\n",
    "                    else:\n",
    "                        row_names = message[message.find(\"SELECT\")+8:message.find(\"WHERE\")-1].replace(\"?\",\"\").split(\" \")\n",
    "                    qres=graph.query(message)\n",
    "                    for row in qres:\n",
    "                        answer=[]\n",
    "                        for row_name in row_names:\n",
    "                            answer.append(row[row_name])\n",
    "                    # Send a message to the corresponding chat room using the post_messages method of the room object.\n",
    "                    room.post_messages(f\"Received your message: '{answer}' \")\n",
    "                    # Mark the message as processed, so it will be filtered out when retrieving new messages.\n",
    "                    room.mark_as_processed(message)\n",
    "\n",
    "                # Retrieve reactions from this chat room.\n",
    "                # If only_new=True, it filters out reactions that have already been marked as processed.\n",
    "                for reaction in room.get_reactions(only_new=True):\n",
    "                    print(\n",
    "                        f\"\\t- Chatroom {room.room_id} \"\n",
    "                        f\"- new reaction #{reaction.message_ordinal}: '{reaction.type}' \"\n",
    "                        f\"- {self.get_time()}\")\n",
    "\n",
    "                    # Implement your agent here #\n",
    "\n",
    "                    room.post_messages(f\"Received your reaction: '{reaction.type}' \")\n",
    "                    room.mark_as_processed(reaction)\n",
    "\n",
    "            time.sleep(listen_freq)\n",
    "\n",
    "    @staticmethod\n",
    "    def get_time():\n",
    "        return time.strftime(\"%H:%M:%S, %d-%m-%Y\", time.localtime())\n",
    "\n",
    "\n",
    "if __name__ == '__main__':\n",
    "    demo_bot = Agent(\"bot_name\", \"bot_pass\")\n",
    "    demo_bot.listen()\n"
   ]
  }
 ],
 "metadata": {
  "colab": {
   "authorship_tag": "ABX9TyNC2BzrVbq+mNDgGNziLFpm",
   "collapsed_sections": [],
   "name": "dataset_intro.ipynb",
   "provenance": []
  },
  "kernelspec": {
   "display_name": "Python 3",
   "language": "python",
   "name": "python3"
  },
  "language_info": {
   "codemirror_mode": {
    "name": "ipython",
    "version": 3
   },
   "file_extension": ".py",
   "mimetype": "text/x-python",
   "name": "python",
   "nbconvert_exporter": "python",
   "pygments_lexer": "ipython3",
   "version": "3.12.6"
  }
 },
 "nbformat": 4,
 "nbformat_minor": 4
}
